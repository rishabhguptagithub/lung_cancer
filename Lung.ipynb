{
 "cells": [
  {
   "cell_type": "code",
   "execution_count": 1,
   "metadata": {},
   "outputs": [
    {
     "name": "stderr",
     "output_type": "stream",
     "text": [
      "/home/rishotics/anaconda2/lib/python2.7/site-packages/sklearn/ensemble/weight_boosting.py:29: DeprecationWarning: numpy.core.umath_tests is an internal NumPy module and should not be imported. It will be removed in a future NumPy release.\n",
      "  from numpy.core.umath_tests import inner1d\n",
      "/home/rishotics/anaconda2/lib/python2.7/site-packages/h5py/__init__.py:36: FutureWarning: Conversion of the second argument of issubdtype from `float` to `np.floating` is deprecated. In future, it will be treated as `np.float64 == np.dtype(float).type`.\n",
      "  from ._conv import register_converters as _register_converters\n"
     ]
    }
   ],
   "source": [
    "from skimage import feature\n",
    "import numpy as np\n",
    "import cv2 as cv\n",
    "import mahotas as mt\n",
    "import scipy as sc\n",
    "import os\n",
    "import numpy as np\n",
    "import cv2 as cv\n",
    "from matplotlib import pyplot as plt\n",
    "import pandas as pd\n",
    "%matplotlib inline\n",
    "import matplotlib.pyplot as plt\n",
    "from matplotlib.offsetbox import OffsetImage, AnnotationBbox\n",
    "import glob\n",
    "import os\n",
    "from sklearn.decomposition import PCA\n",
    "from sklearn.manifold import TSNE\n",
    "from sklearn.preprocessing import StandardScaler\n",
    "from sklearn.ensemble import RandomForestClassifier\n",
    "from sklearn.model_selection import train_test_split\n",
    "from sklearn.metrics import accuracy_score\n",
    "from sklearn import svm\n",
    "from sklearn.cluster import KMeans\n",
    "import tensorflow as tf\n",
    "from sklearn.svm import LinearSVC\n",
    "from skimage import feature\n",
    "import numpy as np\n",
    "from skimage import feature\n",
    "import numpy as np\n",
    "numPoints=24\n",
    "radius=6\n",
    "eps=1e-7\n"
   ]
  },
  {
   "cell_type": "code",
   "execution_count": null,
   "metadata": {},
   "outputs": [],
   "source": []
  },
  {
   "cell_type": "code",
   "execution_count": 49,
   "metadata": {},
   "outputs": [],
   "source": [
    "lung_image=[]\n",
    "labels=[]\n",
    "i=0\n",
    "for lung_dir_path in glob.glob(\"/home/rishotics/somita/patches/*\"):\n",
    "    i=int(lung_dir_path[36:-5])\n",
    "    \n",
    "    if(i>=1 and i <=59):\n",
    "        label=0\n",
    "    elif(i>59 and i<=109):\n",
    "        label=1\n",
    "    else:\n",
    "        label=2\n",
    "    \n",
    "    image=cv.imread(lung_dir_path)\n",
    "    labels.append(label)\n",
    "    lung_image.append(image)\n",
    "lung_image=np.array(lung_image)\n",
    "labels=np.array(labels)\n",
    "lung_to_dict={i:k for k,i in enumerate(np.unique(labels))}\n",
    "dict_to_id={i:k for k,i in lung_to_dict.items()}\n",
    "label_id=np.array([lung_to_dict[x] for x in labels])\n"
   ]
  },
  {
   "cell_type": "code",
   "execution_count": 50,
   "metadata": {},
   "outputs": [],
   "source": [
    "def glcm(i):\n",
    "    textures = mt.features.haralick(i)\n",
    "\n",
    "        # take the mean of it and return it\n",
    "    ht_mean = textures.mean(axis=0)\n",
    "    \n",
    "    return ht_mean"
   ]
  },
  {
   "cell_type": "code",
   "execution_count": 51,
   "metadata": {},
   "outputs": [],
   "source": [
    "import cv2 \n",
    "def gabor_feature(i):\n",
    "    ksize = 31\n",
    "    kern = cv2.getGaborKernel((ksize, ksize), 4.0,np.pi*1.5, 10.0, 1, 0, ktype=cv2.CV_32F)\n",
    "    res1 = cv2.filter2D(i, cv2.CV_8UC3, kern)\n",
    "    def build_filters_sigma():\n",
    "        gabor_sigma=[]\n",
    "        ksize = 31\n",
    "        for sigma in range(1,5):\n",
    "            kern = cv2.getGaborKernel((ksize, ksize), sigma, np.pi/2, 10.0, 0.5, 0, ktype=cv2.CV_32F)\n",
    "            m=kern.mean()\n",
    "            gabor_sigma.append(m)\n",
    "        return gabor_sigma\n",
    "    def build_filters_theta():\n",
    "        gabor_theta=[]\n",
    "        ksize = 31\n",
    "        for theta in np.arange(0, np.pi/2, np.pi /8):\n",
    "            kern = cv2.getGaborKernel((ksize, ksize), 4.0, theta, 10.0, 0.5, 0, ktype=cv2.CV_32F)\n",
    "            m=kern.mean()\n",
    "            gabor_theta.append(m)\n",
    "        return gabor_theta \n",
    "\n",
    "\n",
    "    gabor_features=[]\n",
    "    mea1 = build_filters_sigma()\n",
    "    mea2= build_filters_theta()\n",
    "    gabor_features=mea1+mea2\n",
    "    gabor_features=np.reshape(gabor_features,-1)\n",
    "    return gabor_features\n"
   ]
  },
  {
   "cell_type": "code",
   "execution_count": 56,
   "metadata": {},
   "outputs": [],
   "source": [
    "data = []\n",
    "labels = []\n",
    "\n",
    "def LBP_features(image):\n",
    "    gray = cv2.cvtColor(image, cv2.COLOR_BGR2GRAY)\n",
    "    \n",
    "    \n",
    "    \n",
    "    lbp = feature.local_binary_pattern(gray, numPoints,radius, method=\"uniform\")\n",
    "    (hist, _) = np.histogram(lbp.ravel(),bins=np.arange(0, numPoints + 3),\n",
    "    range=(0, numPoints + 2))\n",
    " \n",
    "\t\t# normalize the histogram\n",
    "    hist = hist.astype(\"float\")\n",
    "    hist /= (hist.sum() + eps)\n",
    "   # hist = hist.describe()\n",
    "    return (pd.Series(hist).describe())"
   ]
  },
  {
   "cell_type": "code",
   "execution_count": null,
   "metadata": {},
   "outputs": [],
   "source": []
  },
  {
   "cell_type": "code",
   "execution_count": 57,
   "metadata": {
    "scrolled": false
   },
   "outputs": [
    {
     "data": {
      "text/plain": [
       "(161, 29)"
      ]
     },
     "execution_count": 57,
     "metadata": {},
     "output_type": "execute_result"
    }
   ],
   "source": [
    "j=0\n",
    "X=np.zeros((lung_image.shape[0],21+8))\n",
    "for i in lung_image:\n",
    "    \n",
    "    \n",
    "    feature_vector=[]\n",
    "    glcm_features=glcm(i)\n",
    "    gabor_features=gabor_feature(i)\n",
    "    lbp_features=LBP_features(i)\n",
    "    feature_vector=np.concatenate((glcm_features,gabor_features,lbp_features),axis=0)\n",
    "    X[j,:]=feature_vector\n",
    "    \n",
    "    j=j+1\n",
    "X.shape\n",
    "    "
   ]
  },
  {
   "cell_type": "code",
   "execution_count": 58,
   "metadata": {},
   "outputs": [],
   "source": [
    "X_train=X[0:130,:]\n",
    "y_train=label_id[0:130,]\n",
    "X_test=X[131:,:]\n",
    "y_test=label_id[131:,]\n"
   ]
  },
  {
   "cell_type": "code",
   "execution_count": 59,
   "metadata": {},
   "outputs": [
    {
     "data": {
      "text/plain": [
       "array([2, 2, 0, 1, 1, 2, 2, 2, 1, 1, 0, 2, 0, 2, 2, 2, 2, 2, 0, 2, 0, 2,\n",
       "       2, 1, 0, 1, 1, 0, 1, 1])"
      ]
     },
     "execution_count": 59,
     "metadata": {},
     "output_type": "execute_result"
    }
   ],
   "source": [
    "y_test"
   ]
  },
  {
   "cell_type": "code",
   "execution_count": 4,
   "metadata": {},
   "outputs": [],
   "source": []
  },
  {
   "cell_type": "code",
   "execution_count": 6,
   "metadata": {},
   "outputs": [],
   "source": []
  },
  {
   "cell_type": "code",
   "execution_count": 60,
   "metadata": {},
   "outputs": [
    {
     "data": {
      "text/plain": [
       "36.666666666666664"
      ]
     },
     "execution_count": 60,
     "metadata": {},
     "output_type": "execute_result"
    }
   ],
   "source": [
    "lin_clf = svm.LinearSVC()\n",
    "lin_clf.fit(X_train,y_train) \n",
    "lin_clf.predict(X_test)\n",
    "100*lin_clf.score(X_test,y_test)"
   ]
  },
  {
   "cell_type": "code",
   "execution_count": 61,
   "metadata": {},
   "outputs": [
    {
     "data": {
      "text/plain": [
       "0.3333333333333333"
      ]
     },
     "execution_count": 61,
     "metadata": {},
     "output_type": "execute_result"
    }
   ],
   "source": [
    "from sklearn.neural_network import MLPClassifier\n",
    "\n",
    "clf = MLPClassifier(solver='lbfgs', alpha=0.05,\n",
    "                    hidden_layer_sizes=(1000,), random_state=1)\n",
    "\n",
    "clf.fit(X_train, y_train)\n",
    "clf.score(X_test,y_test)\n"
   ]
  },
  {
   "cell_type": "code",
   "execution_count": null,
   "metadata": {},
   "outputs": [],
   "source": []
  },
  {
   "cell_type": "code",
   "execution_count": 63,
   "metadata": {},
   "outputs": [
    {
     "data": {
      "text/plain": [
       "66.66666666666666"
      ]
     },
     "execution_count": 63,
     "metadata": {},
     "output_type": "execute_result"
    }
   ],
   "source": [
    "from sklearn.neighbors import KNeighborsClassifier\n",
    "neigh = KNeighborsClassifier(n_neighbors=3)\n",
    "neigh.fit(X_train,y_train)\n",
    "neigh.predict(X_test)\n",
    "100*neigh.score(X_test, y_test, sample_weight=None)"
   ]
  },
  {
   "cell_type": "code",
   "execution_count": null,
   "metadata": {},
   "outputs": [],
   "source": []
  },
  {
   "cell_type": "code",
   "execution_count": null,
   "metadata": {},
   "outputs": [],
   "source": []
  },
  {
   "cell_type": "code",
   "execution_count": 64,
   "metadata": {},
   "outputs": [
    {
     "data": {
      "text/plain": [
       "83.33333333333334"
      ]
     },
     "execution_count": 64,
     "metadata": {},
     "output_type": "execute_result"
    }
   ],
   "source": [
    "from sklearn.ensemble import RandomForestClassifier\n",
    "from sklearn.datasets import make_classification\n",
    "clf = RandomForestClassifier(n_estimators=100, max_depth=10,\n",
    "                             random_state=1)\n",
    "clf.fit(X_train, y_train)\n",
    "100*clf.score(X_test,y_test)"
   ]
  },
  {
   "cell_type": "code",
   "execution_count": 31,
   "metadata": {},
   "outputs": [],
   "source": []
  },
  {
   "cell_type": "code",
   "execution_count": null,
   "metadata": {},
   "outputs": [],
   "source": []
  },
  {
   "cell_type": "code",
   "execution_count": 65,
   "metadata": {},
   "outputs": [],
   "source": [
    "# loop over the training images\n"
   ]
  },
  {
   "cell_type": "code",
   "execution_count": null,
   "metadata": {},
   "outputs": [],
   "source": []
  }
 ],
 "metadata": {
  "kernelspec": {
   "display_name": "Python 2",
   "language": "python",
   "name": "python2"
  },
  "language_info": {
   "codemirror_mode": {
    "name": "ipython",
    "version": 2
   },
   "file_extension": ".py",
   "mimetype": "text/x-python",
   "name": "python",
   "nbconvert_exporter": "python",
   "pygments_lexer": "ipython2",
   "version": "2.7.15"
  }
 },
 "nbformat": 4,
 "nbformat_minor": 2
}
