{
 "cells": [
  {
   "cell_type": "code",
   "execution_count": 1,
   "metadata": {},
   "outputs": [
    {
     "name": "stderr",
     "output_type": "stream",
     "text": [
      "/home/rishotics/anaconda2/lib/python2.7/site-packages/h5py/__init__.py:36: FutureWarning: Conversion of the second argument of issubdtype from `float` to `np.floating` is deprecated. In future, it will be treated as `np.float64 == np.dtype(float).type`.\n",
      "  from ._conv import register_converters as _register_converters\n"
     ]
    }
   ],
   "source": [
    "from skimage import feature\n",
    "import numpy as np\n",
    "import cv2 as cv\n",
    "import mahotas as mt\n",
    "import scipy as sc\n",
    "import os\n",
    "import numpy as np\n",
    "import cv2 as cv\n",
    "from matplotlib import pyplot as plt\n",
    "import pandas as pd\n",
    "%matplotlib inline\n",
    "import matplotlib.pyplot as plt\n",
    "from matplotlib.offsetbox import OffsetImage, AnnotationBbox\n",
    "import glob\n",
    "import os\n",
    "from sklearn.decomposition import PCA\n",
    "from sklearn.manifold import TSNE\n",
    "from sklearn.preprocessing import StandardScaler\n",
    "from sklearn.ensemble import RandomForestClassifier\n",
    "from sklearn.model_selection import train_test_split\n",
    "from sklearn.metrics import accuracy_score\n",
    "from sklearn import svm\n",
    "from sklearn.cluster import KMeans\n",
    "import tensorflow as tf\n",
    "from sklearn.svm import LinearSVC\n",
    "from skimage import feature\n",
    "import numpy as np\n",
    "from skimage import feature\n",
    "import numpy as np\n",
    "numPoints=24\n",
    "radius=6\n",
    "eps=1e-7\n"
   ]
  },
  {
   "cell_type": "code",
   "execution_count": null,
   "metadata": {},
   "outputs": [],
   "source": []
  },
  {
   "cell_type": "code",
   "execution_count": 70,
   "metadata": {},
   "outputs": [
    {
     "data": {
      "text/plain": [
       "(161, 61, 61, 3)"
      ]
     },
     "execution_count": 70,
     "metadata": {},
     "output_type": "execute_result"
    }
   ],
   "source": [
    "lung_image=[]\n",
    "labels=[]\n",
    "i=0\n",
    "for lung_dir_path in glob.glob(\"/home/rishotics/somita/patches/*\"):\n",
    "    i=int(lung_dir_path[36:-5])\n",
    "    \n",
    "    if(i>=1 and i <=59):\n",
    "        label=0\n",
    "    elif(i>59 and i<=109):\n",
    "        label=1\n",
    "    else:\n",
    "        label=2\n",
    "    \n",
    "    image=cv.imread(lung_dir_path)\n",
    "    labels.append(label)\n",
    "    lung_image.append(image)\n",
    "lung_image=np.array(lung_image)\n",
    "labels=np.array(labels)\n",
    "lung_to_dict={i:k for k,i in enumerate(np.unique(labels))}\n",
    "dict_to_id={i:k for k,i in lung_to_dict.items()}\n",
    "label_id=np.array([lung_to_dict[x] for x in labels])\n",
    "lung_image.shape"
   ]
  },
  {
   "cell_type": "code",
   "execution_count": 68,
   "metadata": {},
   "outputs": [
    {
     "name": "stdout",
     "output_type": "stream",
     "text": [
      "/home/rishotics/somita/patches/patch104.tiff\n"
     ]
    },
    {
     "ename": "ValueError",
     "evalue": "invalid literal for int() with base 10: 'f'",
     "output_type": "error",
     "traceback": [
      "\u001b[0;31m---------------------------------------------------------------------------\u001b[0m",
      "\u001b[0;31mValueError\u001b[0m                                Traceback (most recent call last)",
      "\u001b[0;32m<ipython-input-68-e41e6ed46964>\u001b[0m in \u001b[0;36m<module>\u001b[0;34m()\u001b[0m\n\u001b[1;32m      7\u001b[0m     \u001b[0mlung_image\u001b[0m\u001b[0;34m=\u001b[0m\u001b[0;34m[\u001b[0m\u001b[0;34m]\u001b[0m\u001b[0;34m\u001b[0m\u001b[0m\n\u001b[1;32m      8\u001b[0m     \u001b[0;32mprint\u001b[0m\u001b[0;34m(\u001b[0m\u001b[0mlung_dir_path\u001b[0m\u001b[0;34m)\u001b[0m\u001b[0;34m\u001b[0m\u001b[0m\n\u001b[0;32m----> 9\u001b[0;31m     \u001b[0mlabel\u001b[0m\u001b[0;34m=\u001b[0m\u001b[0mint\u001b[0m\u001b[0;34m(\u001b[0m\u001b[0mlung_dir_path\u001b[0m\u001b[0;34m[\u001b[0m\u001b[0;34m-\u001b[0m\u001b[0;36m1\u001b[0m\u001b[0;34m]\u001b[0m\u001b[0;34m)\u001b[0m\u001b[0;34m-\u001b[0m\u001b[0;36m1\u001b[0m\u001b[0;34m\u001b[0m\u001b[0m\n\u001b[0m\u001b[1;32m     10\u001b[0m     \u001b[0;32mfor\u001b[0m \u001b[0mi\u001b[0m\u001b[0;34m,\u001b[0m\u001b[0mlung_path_image\u001b[0m \u001b[0;32min\u001b[0m \u001b[0menumerate\u001b[0m\u001b[0;34m(\u001b[0m\u001b[0mglob\u001b[0m\u001b[0;34m.\u001b[0m\u001b[0mglob\u001b[0m\u001b[0;34m(\u001b[0m\u001b[0mos\u001b[0m\u001b[0;34m.\u001b[0m\u001b[0mpath\u001b[0m\u001b[0;34m.\u001b[0m\u001b[0mjoin\u001b[0m\u001b[0;34m(\u001b[0m\u001b[0mlung_dir_path\u001b[0m\u001b[0;34m,\u001b[0m\u001b[0;34m\"*.tiff\"\u001b[0m\u001b[0;34m)\u001b[0m\u001b[0;34m)\u001b[0m\u001b[0;34m)\u001b[0m\u001b[0;34m:\u001b[0m\u001b[0;34m\u001b[0m\u001b[0m\n\u001b[1;32m     11\u001b[0m \u001b[0;34m\u001b[0m\u001b[0m\n",
      "\u001b[0;31mValueError\u001b[0m: invalid literal for int() with base 10: 'f'"
     ]
    }
   ],
   "source": [
    "X=[]\n",
    "\n",
    "labels=[]\n",
    "j=-1\n",
    "lung_feature=[]\n",
    "for lung_dir_path in glob.glob(\"/home/rishotics/somita/patches/*\"):\n",
    "    lung_image=[]\n",
    "    print(lung_dir_path)\n",
    "    label=int(lung_dir_path[-1])-1\n",
    "    for i,lung_path_image in enumerate(glob.glob(os.path.join(lung_dir_path,\"*.tiff\"))):\n",
    "            \n",
    "            image=cv.imread(lung_path_image,cv.IMREAD_GRAYSCALE)\n",
    "            image = cv.resize(image, (28,28))\n",
    "            print(lung_path_image)\n",
    "            image=np.reshape(np.array(image),((np.array(image).shape[0])*(np.array(image).shape[0])))\n",
    "            \n",
    "        \n",
    "            lung_image.append((image))\n",
    "            \n",
    "            labels.append(label)\n",
    "                \n",
    "    lung_image=np.array(lung_image)\n",
    "    lung_feature.append((lung_image))\n",
    "    \n",
    "    \n",
    "X=np.array(lung_feature)    \n",
    "\n",
    " \n",
    "            \n",
    "            "
   ]
  },
  {
   "cell_type": "code",
   "execution_count": 34,
   "metadata": {},
   "outputs": [
    {
     "data": {
      "text/plain": [
       "(3,)"
      ]
     },
     "execution_count": 34,
     "metadata": {},
     "output_type": "execute_result"
    }
   ],
   "source": [
    "X.shape"
   ]
  },
  {
   "cell_type": "code",
   "execution_count": 36,
   "metadata": {},
   "outputs": [],
   "source": [
    "X_train=(X[0])\n",
    "\n",
    "for i,j in enumerate(X):\n",
    "    \n",
    "    if(i!=0):\n",
    "        X_train=np.concatenate((X_train,j),axis=0)\n"
   ]
  },
  {
   "cell_type": "code",
   "execution_count": 37,
   "metadata": {},
   "outputs": [
    {
     "data": {
      "text/plain": [
       "(4831, 784)"
      ]
     },
     "execution_count": 37,
     "metadata": {},
     "output_type": "execute_result"
    }
   ],
   "source": [
    "X_train.shape"
   ]
  },
  {
   "cell_type": "code",
   "execution_count": 11,
   "metadata": {},
   "outputs": [],
   "source": [
    "X_train.shape\n",
    "x_train=np.reshape((X_train),(4831,784))\n",
    "np.savetxt(\"x_lung.csv\", x_train, delimiter=\",\")\n"
   ]
  },
  {
   "cell_type": "code",
   "execution_count": 76,
   "metadata": {},
   "outputs": [],
   "source": [
    "np.savetxt(\"y_lung.csv\", np.array(labels), delimiter=\",\")\n"
   ]
  },
  {
   "cell_type": "code",
   "execution_count": 71,
   "metadata": {},
   "outputs": [],
   "source": [
    "def glcm(i):\n",
    "    textures = mt.features.haralick(i)\n",
    "\n",
    "        # take the mean of it and return it\n",
    "    ht_mean = textures.mean(axis=0)\n",
    "    \n",
    "    return ht_mean"
   ]
  },
  {
   "cell_type": "code",
   "execution_count": 72,
   "metadata": {},
   "outputs": [],
   "source": [
    "import cv2 \n",
    "from sklearn.preprocessing import normalize\n",
    "\n",
    "def gabor_feature(i):\n",
    "    ksize = 31\n",
    "    kern = cv2.getGaborKernel((ksize, ksize), 4.0,np.pi*1.5, 10.0, 1, 0, ktype=cv2.CV_32F)\n",
    "    res1 = cv2.filter2D(i, cv2.CV_8UC3, kern)\n",
    "    def build_filters_sigma():\n",
    "        gabor_sigma=[]\n",
    "        ksize = 31\n",
    "        for sigma in range(1,5):\n",
    "            kern = cv2.getGaborKernel((ksize, ksize), sigma, np.pi/2, 10.0, 0.5, 0, ktype=cv2.CV_32F)\n",
    "            res1 = cv2.filter2D(i, cv2.CV_8UC3, kern)\n",
    "            m=res1.mean()\n",
    "            gabor_sigma.append(m)\n",
    "        return gabor_sigma\n",
    "    def build_filters_theta():\n",
    "        gabor_theta=[]\n",
    "        ksize = 31\n",
    "        for theta in np.arange(0, np.pi/2, np.pi /8):\n",
    "            kern = cv2.getGaborKernel((ksize, ksize), 4.0, theta, 10.0, 0.5, 0, ktype=cv2.CV_32F)\n",
    "            res1 = cv2.filter2D(i, cv2.CV_8UC3, kern)\n",
    "            m=res1.mean()\n",
    "            gabor_theta.append(m)\n",
    "        return gabor_theta \n",
    "\n",
    "\n",
    "    gabor_features=[]\n",
    "    mea1 = build_filters_sigma()\n",
    "    mea2= build_filters_theta()\n",
    "    gabor_features=mea1+mea2\n",
    "    gabor_features=np.reshape(gabor_features,-1)\n",
    "    return gabor_features\n"
   ]
  },
  {
   "cell_type": "code",
   "execution_count": null,
   "metadata": {},
   "outputs": [],
   "source": []
  },
  {
   "cell_type": "code",
   "execution_count": 73,
   "metadata": {},
   "outputs": [],
   "source": [
    "data = []\n",
    "labels = []\n",
    "\n",
    "def LBP_features(image):\n",
    "    gray = cv2.cvtColor(image, cv2.COLOR_BGR2GRAY)\n",
    "    \n",
    "    \n",
    "    \n",
    "    lbp = feature.local_binary_pattern(gray, numPoints,radius, method=\"uniform\")\n",
    "    (hist, _) = np.histogram(lbp.ravel(),bins=np.arange(0, numPoints + 3),\n",
    "    range=(0, numPoints + 2))\n",
    "    #normalize the histogram\n",
    "    hist = hist.astype(\"float\")\n",
    "    hist /= (hist.sum() + eps)\n",
    "    #hist = hist.describe()\n",
    "    return (pd.Series(hist).describe())"
   ]
  },
  {
   "cell_type": "code",
   "execution_count": 17,
   "metadata": {},
   "outputs": [
    {
     "data": {
      "text/plain": [
       "1e-07"
      ]
     },
     "execution_count": 17,
     "metadata": {},
     "output_type": "execute_result"
    }
   ],
   "source": [
    "eps"
   ]
  },
  {
   "cell_type": "code",
   "execution_count": 74,
   "metadata": {
    "scrolled": false
   },
   "outputs": [],
   "source": [
    "j=0\n",
    "\n",
    "\n",
    "X=np.zeros((lung_image.shape[0],21+8))\n",
    "for i in lung_image:\n",
    "    \n",
    "    feature_vector=[]\n",
    "    \n",
    "    glcm_features=glcm(i)\n",
    "    gabor_features=gabor_feature(i)\n",
    "    lbp_features=LBP_features(i)\n",
    "    feature_vector=np.concatenate((glcm_features,gabor_features,lbp_features),axis=0)\n",
    "    X[j,:]=feature_vector\n",
    "    j=j+1\n",
    "X.shape\n",
    "X=normalize(X)\n"
   ]
  },
  {
   "cell_type": "code",
   "execution_count": 33,
   "metadata": {},
   "outputs": [],
   "source": [
    "import xlsxwriter\n",
    "\n",
    "workbook = xlsxwriter.Workbook('arrays_new.xlsx')\n",
    "worksheet = workbook.add_worksheet()\n",
    "row = 0\n",
    "X_sheet=normalize(np.transpose(X))\n",
    "for col, data in enumerate(X_sheet):\n",
    "    worksheet.write_column(row, col, data)\n",
    "\n",
    "workbook.close()"
   ]
  },
  {
   "cell_type": "code",
   "execution_count": 43,
   "metadata": {},
   "outputs": [],
   "source": [
    "X_train=X[0:130,:]\n",
    "y_train=label_id[0:130,]\n",
    "X_test=X[131:,:]\n",
    "y_test=label_id[131:,]\n"
   ]
  },
  {
   "cell_type": "code",
   "execution_count": 46,
   "metadata": {},
   "outputs": [
    {
     "data": {
      "text/plain": [
       "(130, 29)"
      ]
     },
     "execution_count": 46,
     "metadata": {},
     "output_type": "execute_result"
    }
   ],
   "source": [
    "X_train.shape"
   ]
  },
  {
   "cell_type": "code",
   "execution_count": 43,
   "metadata": {},
   "outputs": [
    {
     "name": "stdout",
     "output_type": "stream",
     "text": [
      "[2 2 0 1 1 2 2 2 1 1 0 2 0 2 2 2 2 2 0 2 0 2 2 1 0 1 1 0 1 1]\n",
      "[1 0 2 1 2 1 2 0 0 0 1 1 1 0 2 0 0 0 0 0 2 1 0 1 2 1 1 1 0 0 2 0 0 0 2 1 2\n",
      " 0 2 0 1 0 0 2 2 2 2 2 1 1 1 0 0 2 0 0 2 1 0 2 2 2 2 1 2 2 1 2 0 1 2 0 2 2\n",
      " 0 1 2 0 0 2 0 0 0 0 1 2 2 1 0 0 1 2 1 1 0 1 0 1 0 1 0 1 0 2 2 1 2 0 0 1 0\n",
      " 0 1 1 2 1 2 0 0 0 1 0 1 1 0 2 1 2 1 1]\n"
     ]
    }
   ],
   "source": [
    "import xlsxwriter\n",
    "\n",
    "workbook = xlsxwriter.Workbook('X_train.xlsx')\n",
    "worksheet = workbook.add_worksheet()\n",
    "row = 0\n",
    "X_sheet=normalize(np.transpose(X_train))\n",
    "for col, data in enumerate(X_sheet):\n",
    "    worksheet.write_column(row, col, data)\n",
    "\n",
    "workbook.close()\n",
    "import xlsxwriter\n",
    "\n",
    "workbook = xlsxwriter.Workbook('X_test.xlsx')\n",
    "worksheet = workbook.add_worksheet()\n",
    "row = 0\n",
    "\n",
    "X_sheet=normalize(np.transpose(X_test))\n",
    "for col, data in enumerate(X_sheet):\n",
    "    worksheet.write_column(row, col, data)\n",
    "\n",
    "workbook.close()\n",
    "\n",
    "import xlsxwriter\n",
    "\n",
    "workbook = xlsxwriter.Workbook('y_test.xlsx')\n",
    "worksheet = workbook.add_worksheet()\n",
    "row = 0\n",
    "\n",
    "\n",
    "for col, data in enumerate(y_test):\n",
    "    worksheet.write(row, col, data)\n",
    "\n",
    "    \n",
    "import xlsxwriter\n",
    "\n",
    "workbook = xlsxwriter.Workbook('y_train.xlsx')\n",
    "worksheet = workbook.add_worksheet()\n",
    "row = 0\n",
    "\n",
    "for col, data in enumerate(y_train):\n",
    "    worksheet.write(row, col, data)\n",
    "\n",
    "workbook.close()\n",
    "workbook.close()\n",
    "print(y_test)\n",
    "print (y_train)"
   ]
  },
  {
   "cell_type": "code",
   "execution_count": 45,
   "metadata": {},
   "outputs": [
    {
     "data": {
      "text/plain": [
       "array([[2.70293559e-05, 9.28726027e-02, 6.15622266e-05, ...,\n",
       "        5.13667533e-07, 3.15754454e-06, 3.44257966e-05],\n",
       "       [2.79057458e-05, 1.39916749e-01, 9.52374120e-05, ...,\n",
       "        6.23280754e-07, 3.01252364e-06, 5.61298946e-05],\n",
       "       [9.91127448e-06, 9.40535267e-02, 2.14733422e-05, ...,\n",
       "        1.47547159e-07, 5.11145515e-07, 1.46493251e-05],\n",
       "       ...,\n",
       "       [3.99997622e-06, 7.33004776e-02, 1.44554983e-05, ...,\n",
       "        1.47059872e-07, 4.29867317e-07, 8.66974504e-06],\n",
       "       [4.99802169e-05, 1.26965687e-01, 7.22230427e-05, ...,\n",
       "        1.16038702e-06, 2.66506469e-06, 4.50128151e-05],\n",
       "       [1.48068934e-05, 6.15180169e-02, 4.73122591e-05, ...,\n",
       "        3.90371553e-07, 2.05306520e-06, 1.99234074e-05]])"
      ]
     },
     "execution_count": 45,
     "metadata": {},
     "output_type": "execute_result"
    }
   ],
   "source": [
    "X_train"
   ]
  },
  {
   "cell_type": "code",
   "execution_count": 51,
   "metadata": {},
   "outputs": [
    {
     "name": "stdout",
     "output_type": "stream",
     "text": [
      "[0.86126459 0.28020473 0.91702299 0.26184231 0.80261305 0.76706605\n",
      " 0.44298424 0.54843941 0.51828598 0.83179607 0.5764391  1.\n",
      " 0.87903583 0.76824793 0.76735498 0.76688174 0.76439964 0.76393524\n",
      " 0.76509174 0.76581173 0.7653355  0.76251505 0.76251505 0.73013863\n",
      " 0.05902382 0.92858826 0.9448203  0.76832091 0.75761635]\n"
     ]
    },
    {
     "data": {
      "image/png": "[encoded data removed]",
      "text/plain": [
       "<Figure size 432x288 with 1 Axes>"
      ]
     },
     "metadata": {},
     "output_type": "display_data"
    }
   ],
   "source": [
    "X_indices = np.arange(X_train.shape[-1])\n",
    "from sklearn import datasets, svm\n",
    "from sklearn.feature_selection import SelectPercentile, f_classif\n",
    "selector = SelectPercentile(f_classif, percentile=60)\n",
    "selector.fit(X_train, y_train)\n",
    "scores = -np.log10(selector.pvalues_)\n",
    "scores /= scores.max()\n",
    "plt.bar(X_indices - .45, scores, width=.2,\n",
    "        label=r'Univariate score ($-Log(p_{value})$)', color='darkorange',\n",
    "        edgecolor='black')\n",
    "print(scores)\n",
    "clf = svm.SVC(kernel='linear')\n",
    "clf.fit(X_train, y_train)\n",
    "\n",
    "svm_weights = (clf.coef_ ** 2).sum(axis=0)\n",
    "svm_weights /= svm_weights.max()\n",
    "\n",
    "plt.bar(X_indices - .25, svm_weights, width=.2, label='SVM weight of every feature',\n",
    "        color='navy', edgecolor='black')\n",
    "\n",
    "clf_selected = svm.SVC(kernel='linear')\n",
    "clf_selected.fit(selector.transform(X_train), y_train)\n",
    "\n",
    "svm_weights_selected = (clf_selected.coef_ ** 2).sum(axis=0)\n",
    "svm_weights_selected /= svm_weights_selected.max()\n",
    "\n",
    "\n",
    "plt.bar(X_indices[selector.get_support()] - .05, svm_weights_selected,\n",
    "        width=.2, label='SVM weights after selection for every feature', color='c',\n",
    "        edgecolor='black')\n",
    "\n",
    "\n",
    "plt.title(\"Comparing feature selection\")\n",
    "plt.xlabel('Feature number')\n",
    "plt.yticks(())\n",
    "plt.axis('tight')\n",
    "plt.legend(loc='upper right')\n",
    "plt.show()"
   ]
  },
  {
   "cell_type": "code",
   "execution_count": 52,
   "metadata": {},
   "outputs": [
    {
     "name": "stderr",
     "output_type": "stream",
     "text": [
      "/home/rishotics/anaconda2/lib/python2.7/site-packages/sklearn/model_selection/_split.py:605: Warning: The least populated class in y has only 39 members, which is too few. The minimum number of members in any class cannot be less than n_splits=45.\n",
      "  % (min_groups, self.n_splits)), Warning)\n"
     ]
    },
    {
     "name": "stdout",
     "output_type": "stream",
     "text": [
      "0.4185185185185185\n",
      "0.19123452805074942\n",
      "0.4185185185185185\n",
      "0.19123452805074942\n",
      "0.4185185185185185\n",
      "0.19123452805074942\n",
      "0.4185185185185185\n",
      "0.19123452805074942\n",
      "0.4185185185185185\n",
      "0.19123452805074942\n",
      "0.4185185185185185\n",
      "0.19123452805074942\n",
      "0.4185185185185185\n",
      "0.19123452805074942\n",
      "0.4185185185185185\n",
      "0.19123452805074942\n",
      "0.4185185185185185\n",
      "0.19123452805074942\n",
      "0.4185185185185185\n",
      "0.19123452805074942\n",
      "0.4185185185185185\n",
      "0.19123452805074942\n"
     ]
    },
    {
     "data": {
      "image/png": "[encoded data removed]",
      "text/plain": [
       "<Figure size 432x288 with 1 Axes>"
      ]
     },
     "metadata": {},
     "output_type": "display_data"
    }
   ],
   "source": [
    "import numpy as np\n",
    "import matplotlib.pyplot as plt\n",
    "from sklearn.datasets import load_digits\n",
    "from sklearn.feature_selection import SelectPercentile, chi2\n",
    "from sklearn.model_selection import cross_val_score\n",
    "from sklearn.pipeline import Pipeline\n",
    "from sklearn.svm import SVC\n",
    "transform = SelectPercentile(f_classif)\n",
    "\n",
    "clf = Pipeline([('anova', transform), ('svc', SVC(gamma=\"auto\"))])\n",
    "\n",
    "# #############################################################################\n",
    "# Plot the cross-validation score as a function of percentile of features\n",
    "score_means = list()\n",
    "score_stds = list()\n",
    "percentiles = (1, 3, 6, 10, 15, 20, 30, 40, 60, 80, 100)\n",
    "\n",
    "for percentile in percentiles:\n",
    "    clf.set_params(anova__percentile=percentile)\n",
    "    # Compute cross-validation score using 1 CPU\n",
    "    this_scores = cross_val_score(clf, X_train, y_train, cv=45, n_jobs=1)\n",
    "    score_means.append(this_scores.mean())\n",
    "    print(this_scores.mean())\n",
    "    score_stds.append(this_scores.std())\n",
    "    print(this_scores.std())\n",
    "\n",
    "plt.errorbar(percentiles, score_means, np.array(score_stds))\n",
    "\n",
    "plt.title(\n",
    "    'Performance of the SVM-Anova varying the percentile of features selected')\n",
    "plt.xlabel('Percentile')\n",
    "plt.ylabel('Prediction rate')\n",
    "\n",
    "plt.axis('tight')\n",
    "plt.show()\n"
   ]
  },
  {
   "cell_type": "code",
   "execution_count": 56,
   "metadata": {},
   "outputs": [
    {
     "name": "stdout",
     "output_type": "stream",
     "text": [
      "[0.13342898 0.0918221  0.03730273 0.08751793 0.01649928 0.0107604\n",
      " 0.01362984 0.05954089 0.02582496 0.01936872 0.10043041 0.03299857\n",
      " 0.00502152 0.00215208 0.00215208 0.00502152 0.00143472 0.00860832\n",
      " 0.01578192 0.00430416 0.0035868  0.00071736 0.         0.03156384\n",
      " 0.03012913 0.0918221  0.06599713 0.06169297 0.04088953]\n"
     ]
    },
    {
     "name": "stderr",
     "output_type": "stream",
     "text": [
      "/home/rishotics/anaconda2/lib/python2.7/site-packages/sklearn/preprocessing/label.py:151: DeprecationWarning: The truth value of an empty array is ambiguous. Returning False, but in future this will result in an error. Use `array.size > 0` to check that an array is not empty.\n",
      "  if diff:\n"
     ]
    },
    {
     "data": {
      "image/png": "[encoded data removed]",
      "text/plain": [
       "<Figure size 432x288 with 1 Axes>"
      ]
     },
     "metadata": {},
     "output_type": "display_data"
    },
    {
     "data": {
      "text/plain": [
       "29"
      ]
     },
     "execution_count": 56,
     "metadata": {},
     "output_type": "execute_result"
    }
   ],
   "source": [
    "from xgboost import XGBClassifier\n",
    "from matplotlib import pyplot\n",
    "model = XGBClassifier()\n",
    "model.fit(X_train, y_train)\n",
    "model.score(X_test,y_test)\n",
    "print(model.feature_importances_)\n",
    "pyplot.bar(range(len(model.feature_importances_)), model.feature_importances_)\n",
    "pyplot.show()\n",
    "len(model.feature_importances_)"
   ]
  },
  {
   "cell_type": "code",
   "execution_count": 57,
   "metadata": {},
   "outputs": [
    {
     "ename": "AttributeError",
     "evalue": "'SVC' object has no attribute 'feature_importances_'",
     "output_type": "error",
     "traceback": [
      "\u001b[0;31m---------------------------------------------------------------------------\u001b[0m",
      "\u001b[0;31mAttributeError\u001b[0m                            Traceback (most recent call last)",
      "\u001b[0;32m<ipython-input-57-89899de5ac5f>\u001b[0m in \u001b[0;36m<module>\u001b[0;34m()\u001b[0m\n\u001b[1;32m      3\u001b[0m \u001b[0;32mfrom\u001b[0m \u001b[0mnumpy\u001b[0m \u001b[0;32mimport\u001b[0m \u001b[0msort\u001b[0m\u001b[0;34m\u001b[0m\u001b[0m\n\u001b[1;32m      4\u001b[0m \u001b[0mmodel\u001b[0m \u001b[0;34m=\u001b[0m \u001b[0msvm\u001b[0m\u001b[0;34m.\u001b[0m\u001b[0mSVC\u001b[0m\u001b[0;34m(\u001b[0m\u001b[0mdecision_function_shape\u001b[0m\u001b[0;34m=\u001b[0m\u001b[0;34m'ovo'\u001b[0m\u001b[0;34m)\u001b[0m\u001b[0;34m\u001b[0m\u001b[0m\n\u001b[0;32m----> 5\u001b[0;31m \u001b[0mthresholds\u001b[0m \u001b[0;34m=\u001b[0m \u001b[0msort\u001b[0m\u001b[0;34m(\u001b[0m\u001b[0;34m(\u001b[0m\u001b[0mmodel\u001b[0m\u001b[0;34m.\u001b[0m\u001b[0mfeature_importances_\u001b[0m\u001b[0;34m)\u001b[0m\u001b[0;34m)\u001b[0m\u001b[0;34m\u001b[0m\u001b[0m\n\u001b[0m\u001b[1;32m      6\u001b[0m \u001b[0;32mfor\u001b[0m \u001b[0mthresh\u001b[0m \u001b[0;32min\u001b[0m \u001b[0mthresholds\u001b[0m\u001b[0;34m:\u001b[0m\u001b[0;34m\u001b[0m\u001b[0m\n\u001b[1;32m      7\u001b[0m         \u001b[0;31m# select features using threshold\u001b[0m\u001b[0;34m\u001b[0m\u001b[0;34m\u001b[0m\u001b[0m\n",
      "\u001b[0;31mAttributeError\u001b[0m: 'SVC' object has no attribute 'feature_importances_'"
     ]
    }
   ],
   "source": [
    "from sklearn.feature_selection import SelectFromModel\n",
    "\n",
    "from numpy import sort\n",
    "model = svm.SVC(decision_function_shape='ovo')\n",
    "thresholds = sort((model.feature_importances_))\n",
    "for thresh in thresholds:\n",
    "\t# select features using threshold\n",
    "\tselection = SelectFromModel(model, threshold=thresh, prefit=True)\n",
    "\tselect_X_train = selection.transform(X_train)\n",
    "    \n",
    "\t# train model\n",
    "\tselection_model = XGBClassifier()\n",
    "\tselection_model.fit(select_X_train, y_train)\n",
    "\t# eval model\n",
    "\tselect_X_test = selection.transform(X_test)\n",
    "\ty_pred = selection_model.predict(select_X_test)\n",
    "\tpredictions = [round(value) for value in y_pred]\n",
    "\taccuracy = accuracy_score(y_test, predictions)\n",
    "\tprint(\"Thresh=%.3f, n=%d, Accuracy: %.2f%%\" % (thresh, select_X_train.shape[1], accuracy*100.0))\n"
   ]
  },
  {
   "cell_type": "code",
   "execution_count": 55,
   "metadata": {},
   "outputs": [
    {
     "ename": "ValueError",
     "evalue": "The underlying estimator SVC has no `coef_` or `feature_importances_` attribute. Either pass a fitted estimator to SelectFromModel or call fit before calling transform.",
     "output_type": "error",
     "traceback": [
      "\u001b[0;31m---------------------------------------------------------------------------\u001b[0m",
      "\u001b[0;31mValueError\u001b[0m                                Traceback (most recent call last)",
      "\u001b[0;32m<ipython-input-55-41671ec04540>\u001b[0m in \u001b[0;36m<module>\u001b[0;34m()\u001b[0m\n\u001b[1;32m      1\u001b[0m \u001b[0mselection\u001b[0m \u001b[0;34m=\u001b[0m \u001b[0mSelectFromModel\u001b[0m\u001b[0;34m(\u001b[0m\u001b[0mmodel\u001b[0m\u001b[0;34m,\u001b[0m \u001b[0mthreshold\u001b[0m\u001b[0;34m=\u001b[0m\u001b[0;36m0.010\u001b[0m\u001b[0;34m,\u001b[0m \u001b[0mprefit\u001b[0m\u001b[0;34m=\u001b[0m\u001b[0mTrue\u001b[0m\u001b[0;34m)\u001b[0m\u001b[0;34m\u001b[0m\u001b[0m\n\u001b[0;32m----> 2\u001b[0;31m \u001b[0mselect_X_train\u001b[0m \u001b[0;34m=\u001b[0m \u001b[0mselection\u001b[0m\u001b[0;34m.\u001b[0m\u001b[0mtransform\u001b[0m\u001b[0;34m(\u001b[0m\u001b[0mX_train\u001b[0m\u001b[0;34m)\u001b[0m\u001b[0;34m\u001b[0m\u001b[0m\n\u001b[0m\u001b[1;32m      3\u001b[0m \u001b[0mselect_X_test\u001b[0m \u001b[0;34m=\u001b[0m \u001b[0mselection\u001b[0m\u001b[0;34m.\u001b[0m\u001b[0mtransform\u001b[0m\u001b[0;34m(\u001b[0m\u001b[0mX_test\u001b[0m\u001b[0;34m)\u001b[0m\u001b[0;34m\u001b[0m\u001b[0m\n\u001b[1;32m      4\u001b[0m \u001b[0mf\u001b[0m\u001b[0;34m=\u001b[0m\u001b[0mselect_X_train\u001b[0m\u001b[0;34m.\u001b[0m\u001b[0mshape\u001b[0m\u001b[0;34m[\u001b[0m\u001b[0;36m1\u001b[0m\u001b[0;34m]\u001b[0m\u001b[0;34m\u001b[0m\u001b[0m\n\u001b[1;32m      5\u001b[0m \u001b[0;32mprint\u001b[0m\u001b[0;34m(\u001b[0m\u001b[0mf\u001b[0m\u001b[0;34m)\u001b[0m\u001b[0;34m\u001b[0m\u001b[0m\n",
      "\u001b[0;32m/home/rishotics/anaconda2/lib/python2.7/site-packages/sklearn/feature_selection/base.pyc\u001b[0m in \u001b[0;36mtransform\u001b[0;34m(self, X)\u001b[0m\n\u001b[1;32m     74\u001b[0m         \"\"\"\n\u001b[1;32m     75\u001b[0m         \u001b[0mX\u001b[0m \u001b[0;34m=\u001b[0m \u001b[0mcheck_array\u001b[0m\u001b[0;34m(\u001b[0m\u001b[0mX\u001b[0m\u001b[0;34m,\u001b[0m \u001b[0maccept_sparse\u001b[0m\u001b[0;34m=\u001b[0m\u001b[0;34m'csr'\u001b[0m\u001b[0;34m)\u001b[0m\u001b[0;34m\u001b[0m\u001b[0m\n\u001b[0;32m---> 76\u001b[0;31m         \u001b[0mmask\u001b[0m \u001b[0;34m=\u001b[0m \u001b[0mself\u001b[0m\u001b[0;34m.\u001b[0m\u001b[0mget_support\u001b[0m\u001b[0;34m(\u001b[0m\u001b[0;34m)\u001b[0m\u001b[0;34m\u001b[0m\u001b[0m\n\u001b[0m\u001b[1;32m     77\u001b[0m         \u001b[0;32mif\u001b[0m \u001b[0;32mnot\u001b[0m \u001b[0mmask\u001b[0m\u001b[0;34m.\u001b[0m\u001b[0many\u001b[0m\u001b[0;34m(\u001b[0m\u001b[0;34m)\u001b[0m\u001b[0;34m:\u001b[0m\u001b[0;34m\u001b[0m\u001b[0m\n\u001b[1;32m     78\u001b[0m             warn(\"No features were selected: either the data is\"\n",
      "\u001b[0;32m/home/rishotics/anaconda2/lib/python2.7/site-packages/sklearn/feature_selection/base.pyc\u001b[0m in \u001b[0;36mget_support\u001b[0;34m(self, indices)\u001b[0m\n\u001b[1;32m     45\u001b[0m             \u001b[0mvalues\u001b[0m \u001b[0mare\u001b[0m \u001b[0mindices\u001b[0m \u001b[0minto\u001b[0m \u001b[0mthe\u001b[0m \u001b[0minput\u001b[0m \u001b[0mfeature\u001b[0m \u001b[0mvector\u001b[0m\u001b[0;34m.\u001b[0m\u001b[0;34m\u001b[0m\u001b[0m\n\u001b[1;32m     46\u001b[0m         \"\"\"\n\u001b[0;32m---> 47\u001b[0;31m         \u001b[0mmask\u001b[0m \u001b[0;34m=\u001b[0m \u001b[0mself\u001b[0m\u001b[0;34m.\u001b[0m\u001b[0m_get_support_mask\u001b[0m\u001b[0;34m(\u001b[0m\u001b[0;34m)\u001b[0m\u001b[0;34m\u001b[0m\u001b[0m\n\u001b[0m\u001b[1;32m     48\u001b[0m         \u001b[0;32mreturn\u001b[0m \u001b[0mmask\u001b[0m \u001b[0;32mif\u001b[0m \u001b[0;32mnot\u001b[0m \u001b[0mindices\u001b[0m \u001b[0;32melse\u001b[0m \u001b[0mnp\u001b[0m\u001b[0;34m.\u001b[0m\u001b[0mwhere\u001b[0m\u001b[0;34m(\u001b[0m\u001b[0mmask\u001b[0m\u001b[0;34m)\u001b[0m\u001b[0;34m[\u001b[0m\u001b[0;36m0\u001b[0m\u001b[0;34m]\u001b[0m\u001b[0;34m\u001b[0m\u001b[0m\n\u001b[1;32m     49\u001b[0m \u001b[0;34m\u001b[0m\u001b[0m\n",
      "\u001b[0;32m/home/rishotics/anaconda2/lib/python2.7/site-packages/sklearn/feature_selection/from_model.pyc\u001b[0m in \u001b[0;36m_get_support_mask\u001b[0;34m(self)\u001b[0m\n\u001b[1;32m    140\u001b[0m                 \u001b[0;34m'Either fit SelectFromModel before transform or set \"prefit='\u001b[0m\u001b[0;34m\u001b[0m\u001b[0m\n\u001b[1;32m    141\u001b[0m                 'True\" and pass a fitted estimator to the constructor.')\n\u001b[0;32m--> 142\u001b[0;31m         \u001b[0mscores\u001b[0m \u001b[0;34m=\u001b[0m \u001b[0m_get_feature_importances\u001b[0m\u001b[0;34m(\u001b[0m\u001b[0mestimator\u001b[0m\u001b[0;34m,\u001b[0m \u001b[0mself\u001b[0m\u001b[0;34m.\u001b[0m\u001b[0mnorm_order\u001b[0m\u001b[0;34m)\u001b[0m\u001b[0;34m\u001b[0m\u001b[0m\n\u001b[0m\u001b[1;32m    143\u001b[0m         \u001b[0mthreshold\u001b[0m \u001b[0;34m=\u001b[0m \u001b[0m_calculate_threshold\u001b[0m\u001b[0;34m(\u001b[0m\u001b[0mestimator\u001b[0m\u001b[0;34m,\u001b[0m \u001b[0mscores\u001b[0m\u001b[0;34m,\u001b[0m \u001b[0mself\u001b[0m\u001b[0;34m.\u001b[0m\u001b[0mthreshold\u001b[0m\u001b[0;34m)\u001b[0m\u001b[0;34m\u001b[0m\u001b[0m\n\u001b[1;32m    144\u001b[0m         \u001b[0;32mreturn\u001b[0m \u001b[0mscores\u001b[0m \u001b[0;34m>=\u001b[0m \u001b[0mthreshold\u001b[0m\u001b[0;34m\u001b[0m\u001b[0m\n",
      "\u001b[0;32m/home/rishotics/anaconda2/lib/python2.7/site-packages/sklearn/feature_selection/from_model.pyc\u001b[0m in \u001b[0;36m_get_feature_importances\u001b[0;34m(estimator, norm_order)\u001b[0m\n\u001b[1;32m     29\u001b[0m             \u001b[0;34m\"`feature_importances_` attribute. Either pass a fitted estimator\"\u001b[0m\u001b[0;34m\u001b[0m\u001b[0m\n\u001b[1;32m     30\u001b[0m             \u001b[0;34m\" to SelectFromModel or call fit before calling transform.\"\u001b[0m\u001b[0;34m\u001b[0m\u001b[0m\n\u001b[0;32m---> 31\u001b[0;31m             % estimator.__class__.__name__)\n\u001b[0m\u001b[1;32m     32\u001b[0m \u001b[0;34m\u001b[0m\u001b[0m\n\u001b[1;32m     33\u001b[0m     \u001b[0;32mreturn\u001b[0m \u001b[0mimportances\u001b[0m\u001b[0;34m\u001b[0m\u001b[0m\n",
      "\u001b[0;31mValueError\u001b[0m: The underlying estimator SVC has no `coef_` or `feature_importances_` attribute. Either pass a fitted estimator to SelectFromModel or call fit before calling transform."
     ]
    }
   ],
   "source": [
    "selection = SelectFromModel(model, threshold=0.010, prefit=True)\n",
    "select_X_train = selection.transform(X_train)\n",
    "select_X_test = selection.transform(X_test)\n",
    "f=select_X_train.shape[1]\n",
    "print(f)"
   ]
  },
  {
   "cell_type": "code",
   "execution_count": 24,
   "metadata": {},
   "outputs": [
    {
     "data": {
      "text/plain": [
       "SVC(C=1.0, cache_size=200, class_weight=None, coef0=0.0,\n",
       "  decision_function_shape='ovo', degree=3, gamma='auto', kernel='rbf',\n",
       "  max_iter=-1, probability=False, random_state=None, shrinking=True,\n",
       "  tol=0.001, verbose=False)"
      ]
     },
     "execution_count": 24,
     "metadata": {},
     "output_type": "execute_result"
    }
   ],
   "source": [
    "lin_clf = svm.SVC(decision_function_shape='ovo')\n",
    "lin_clf.fit(select_X_train,y_train) \n",
    "\n"
   ]
  },
  {
   "cell_type": "code",
   "execution_count": null,
   "metadata": {},
   "outputs": [],
   "source": [
    "import pylab\n",
    "pylab.scatter(select_X_train[:,8],select_X_train[:,20],c=train_labels)"
   ]
  },
  {
   "cell_type": "code",
   "execution_count": 25,
   "metadata": {},
   "outputs": [
    {
     "data": {
      "text/plain": [
       "23.333333333333332"
      ]
     },
     "execution_count": 25,
     "metadata": {},
     "output_type": "execute_result"
    }
   ],
   "source": [
    "lin_clf.predict(select_X_test)\n",
    "100*lin_clf.score(select_X_test,y_test)"
   ]
  },
  {
   "cell_type": "code",
   "execution_count": 59,
   "metadata": {},
   "outputs": [],
   "source": [
    "def Svm(thresh,select_X_train,y_train,select_X_test,y_test):\n",
    "    selection = SelectFromModel(model, threshold=thresh, prefit=True)\n",
    "    select_X_train = selection.transform(X_train)\n",
    "    select_X_test = selection.transform(X_test)\n",
    "    f=select_X_train.shape[1]\n",
    "    print(f)\n",
    "    x_vals= select_X_train\n",
    "    from sklearn import datasets\n",
    "\n",
    "\n",
    "    y_vals1 = np.array([1 if y==0 else -1 for y in y_train])\n",
    "    y_vals2 = np.array([1 if y==1 else -1 for y in y_train])\n",
    "    y_vals3 = np.array([1 if y==2 else -1 for y in y_train])\n",
    "    y_vals = np.array([y_vals1, y_vals2, y_vals3])\n",
    "\n",
    "\n",
    "    batch_size = 50\n",
    "    sess = tf.Session()\n",
    "    x_data = tf.placeholder(shape=[None,f], dtype=tf.float32)\n",
    "    y_target = tf.placeholder(shape=[3, None], dtype=tf.float32)\n",
    "    prediction_grid = tf.placeholder(shape=[None,f], dtype=tf.float32)\n",
    "    b = tf.Variable(tf.random_normal(shape=[3,batch_size]))\n",
    "\n",
    "    gamma = tf.constant(-7.0)\n",
    "    dist = tf.reduce_sum(tf.square(x_data), 1)\n",
    "    dist = tf.reshape(dist, [-1,1])\n",
    "    sq_dists = tf.add(tf.subtract(dist, tf.multiply(2., tf.matmul(x_data,tf.transpose(x_data)))), tf.transpose(dist))\n",
    "    my_kernel = tf.exp(tf.multiply(gamma, tf.abs(sq_dists)))\n",
    "\n",
    "    def reshape_matmul(mat):\n",
    "        v1 = tf.expand_dims(mat, 1)\n",
    "        v2 = tf.reshape(v1, [3, batch_size, 1])\n",
    "        return(tf.matmul(v2, v1))\n",
    "    \n",
    "    model_output = tf.matmul(b, my_kernel)\n",
    "    first_term = tf.reduce_sum(b)\n",
    "    b_vec_cross = tf.matmul(tf.transpose(b), b)\n",
    "    y_target_cross = reshape_matmul(y_target)\n",
    "    second_term = tf.reduce_sum(tf.multiply(my_kernel, tf.multiply(b_vec_cross,y_target_cross)),[1,2])\n",
    "    loss = tf.reduce_sum(tf.negative(tf.subtract(first_term, second_term)))\n",
    "\n",
    "    rA = tf.reshape(tf.reduce_sum(tf.square(x_data), 1),[-1,1])\n",
    "    rB = tf.reshape(tf.reduce_sum(tf.square(prediction_grid), 1),[-1,1])\n",
    "    pred_sq_dist = tf.add(tf.subtract(rA, tf.multiply(2., tf.matmul(x_data,tf.transpose(prediction_grid)))), tf.transpose(rB))\n",
    "    pred_kernel = tf.exp(tf.multiply(gamma, tf.abs(pred_sq_dist)))\n",
    "\n",
    "    prediction_output = tf.matmul(tf.multiply(y_target,b), pred_kernel)\n",
    "    prediction = tf.arg_max(prediction_output-tf.expand_dims(tf.reduce_mean(prediction_output,1), 1), 0)\n",
    "    accuracy = tf.reduce_mean(tf.cast(tf.equal(prediction,tf.argmax(y_target,0)), tf.float32))\n",
    "\n",
    "    my_opt = tf.train.GradientDescentOptimizer(0.001)\n",
    "    train_step = my_opt.minimize(loss)\n",
    "    init = tf.initialize_all_variables()\n",
    "    sess.run(init)\n",
    "\n",
    "    loss_vec = []\n",
    "    batch_accuracy = []\n",
    "    for i in range(1000):\n",
    "        rand_index = np.random.choice(len(x_vals), size=batch_size)\n",
    "        X = x_vals[rand_index]\n",
    "        Y = y_vals[:,rand_index]\n",
    "    \n",
    "        sess.run(train_step, feed_dict={x_data: X, y_target:Y})\n",
    "        temp_loss = sess.run(loss, feed_dict={x_data: X, y_target: Y})\n",
    "        loss_vec.append(temp_loss)\n",
    "        acc_temp = sess.run(accuracy, feed_dict={x_data: X, y_target: Y, prediction_grid:X})\n",
    "    \n",
    "        batch_accuracy.append(acc_temp)\n",
    "        if(acc_temp>0.1):\n",
    "            print(acc_temp)\n",
    "\n",
    "    plt.show(batch_accuracy)"
   ]
  },
  {
   "cell_type": "code",
   "execution_count": 60,
   "metadata": {},
   "outputs": [
    {
     "ename": "AttributeError",
     "evalue": "'SVC' object has no attribute 'feature_importances_'",
     "output_type": "error",
     "traceback": [
      "\u001b[0;31m---------------------------------------------------------------------------\u001b[0m",
      "\u001b[0;31mAttributeError\u001b[0m                            Traceback (most recent call last)",
      "\u001b[0;32m<ipython-input-60-3fd5b6b331b7>\u001b[0m in \u001b[0;36m<module>\u001b[0;34m()\u001b[0m\n\u001b[1;32m      2\u001b[0m \u001b[0;32mfrom\u001b[0m \u001b[0mnumpy\u001b[0m \u001b[0;32mimport\u001b[0m \u001b[0msort\u001b[0m\u001b[0;34m\u001b[0m\u001b[0m\n\u001b[1;32m      3\u001b[0m \u001b[0;34m\u001b[0m\u001b[0m\n\u001b[0;32m----> 4\u001b[0;31m \u001b[0mthresholds\u001b[0m \u001b[0;34m=\u001b[0m \u001b[0msort\u001b[0m\u001b[0;34m(\u001b[0m\u001b[0mmodel\u001b[0m\u001b[0;34m.\u001b[0m\u001b[0mfeature_importances_\u001b[0m\u001b[0;34m)\u001b[0m\u001b[0;34m\u001b[0m\u001b[0m\n\u001b[0m\u001b[1;32m      5\u001b[0m \u001b[0;32mfor\u001b[0m \u001b[0mthresh\u001b[0m \u001b[0;32min\u001b[0m \u001b[0mthresholds\u001b[0m\u001b[0;34m:\u001b[0m\u001b[0;34m\u001b[0m\u001b[0m\n\u001b[1;32m      6\u001b[0m         \u001b[0;31m# select features using threshold\u001b[0m\u001b[0;34m\u001b[0m\u001b[0;34m\u001b[0m\u001b[0m\n",
      "\u001b[0;31mAttributeError\u001b[0m: 'SVC' object has no attribute 'feature_importances_'"
     ]
    }
   ],
   "source": [
    "from sklearn.feature_selection import SelectFromModel\n",
    "from numpy import sort\n",
    "\n",
    "thresholds = sort(model.feature_importances_)\n",
    "for thresh in thresholds:\n",
    "\t# select features using threshold\n",
    "        selection = SelectFromModel(model, threshold=thresh, prefit=True)\n",
    "        select_X_train = selection.transform(X_train)\n",
    "        select_X_test = selection.transform(X_test)\n",
    "\t# train model\n",
    "        print(\"for thresh=\")\n",
    "        print(thresh)\n",
    "        Svm(thresh,select_X_train,y_train,select_X_test,y_test)\n",
    "    \n",
    "\t# eval model\n",
    "\t\n",
    "\t\n"
   ]
  },
  {
   "cell_type": "code",
   "execution_count": null,
   "metadata": {},
   "outputs": [],
   "source": []
  },
  {
   "cell_type": "code",
   "execution_count": 26,
   "metadata": {},
   "outputs": [
    {
     "name": "stdout",
     "output_type": "stream",
     "text": [
      "0.23333333333333334\n"
     ]
    }
   ],
   "source": [
    "clf = svm.SVC()\n",
    "\n",
    "clf.fit(X_train, y_train)\n",
    "confidence = clf.score(X_test, y_test)\n",
    "print(confidence)\n"
   ]
  },
  {
   "cell_type": "code",
   "execution_count": 58,
   "metadata": {},
   "outputs": [
    {
     "data": {
      "text/plain": [
       "70.0"
      ]
     },
     "execution_count": 58,
     "metadata": {},
     "output_type": "execute_result"
    }
   ],
   "source": [
    "from sklearn.neural_network import MLPClassifier\n",
    "\n",
    "clf = MLPClassifier(solver='lbfgs', alpha=0.05,\n",
    "                    hidden_layer_sizes=(1000,), random_state=1)\n",
    "\n",
    "clf.fit(X_train, y_train)\n",
    "clf.score(X_test,y_test)*100\n"
   ]
  },
  {
   "cell_type": "code",
   "execution_count": 44,
   "metadata": {},
   "outputs": [
    {
     "data": {
      "text/plain": [
       "[<matplotlib.lines.Line2D at 0x7f6b72cdefd0>]"
      ]
     },
     "execution_count": 44,
     "metadata": {},
     "output_type": "execute_result"
    },
    {
     "data": {
      "image/png": "[encoded data removed]",
      "text/plain": [
       "<Figure size 432x288 with 1 Axes>"
      ]
     },
     "metadata": {},
     "output_type": "display_data"
    }
   ],
   "source": []
  },
  {
   "cell_type": "code",
   "execution_count": 74,
   "metadata": {},
   "outputs": [
    {
     "name": "stdout",
     "output_type": "stream",
     "text": [
      "KNN with 4 nearest neightbours\n",
      " \n",
      "('score= ', 66.66666666666666)\n",
      "confusion matrix=\n",
      "[[ 1  4  2]\n",
      " [ 2  7  0]\n",
      " [ 2  0 12]]\n",
      "precision,recall,fscore\n",
      "('macro case =', (0.5645021645021645, 0.5925925925925926, 0.5746031746031747, None))\n",
      "('micro case=', (0.6666666666666666, 0.6666666666666666, 0.6666666666666666, None))\n",
      "('weighted case=', (0.6375757575757576, 0.6666666666666666, 0.648888888888889, None))\n"
     ]
    }
   ],
   "source": [
    "from sklearn.neighbors import KNeighborsClassifier\n",
    "neigh = KNeighborsClassifier(n_neighbors=3)\n",
    "neigh.fit(select_X_train,y_train)\n",
    "class_predicted=neigh.predict(select_X_test)\n",
    "print(\"KNN with 4 nearest neightbours\")\n",
    "print(\" \")\n",
    "print(\"score= \", 100*neigh.score(select_X_test, y_test, sample_weight=None))\n",
    "from sklearn.metrics import confusion_matrix\n",
    "\n",
    "CM = confusion_matrix(y_test, class_predicted)\n",
    "\n",
    "print(\"confusion matrix=\" )\n",
    "print(CM)\n",
    "from sklearn.metrics import precision_recall_fscore_support\n",
    "print(\"precision,recall,fscore\")\n",
    "print(\"macro case =\",precision_recall_fscore_support(y_test, class_predicted, average='macro'))\n",
    "#print(sensitivity,specitivit\n",
    "print(\"micro case=\",precision_recall_fscore_support(y_test, class_predicted, average='micro'))\n",
    "print(\"weighted case=\",precision_recall_fscore_support(y_test, class_predicted, average='weighted'))\n"
   ]
  },
  {
   "cell_type": "code",
   "execution_count": null,
   "metadata": {},
   "outputs": [],
   "source": []
  },
  {
   "cell_type": "code",
   "execution_count": 76,
   "metadata": {},
   "outputs": [
    {
     "name": "stdout",
     "output_type": "stream",
     "text": [
      "(30, 19)\n",
      "(130, 19)\n"
     ]
    }
   ],
   "source": [
    "print(select_X_test.shape)\n",
    "print(select_X_train.shape)"
   ]
  },
  {
   "cell_type": "code",
   "execution_count": 75,
   "metadata": {},
   "outputs": [
    {
     "name": "stdout",
     "output_type": "stream",
     "text": [
      "RANDOM FOREST with no of estimators=100 and max depth=10\n",
      "('score= ', 80.0)\n",
      "confusion matrix=\n",
      "[[ 4  2  1]\n",
      " [ 1  8  0]\n",
      " [ 2  0 12]]\n",
      "precision,recall,fscore\n",
      "('macro case =', (0.7648351648351648, 0.7724867724867724, 0.7674742411584518, None))\n",
      "('micro case=', (0.8, 0.8, 0.8000000000000002, None))\n",
      "('weighted case=', (0.8041025641025641, 0.8, 0.8007797270955166, None))\n"
     ]
    }
   ],
   "source": [
    "from sklearn.ensemble import RandomForestClassifier\n",
    "from sklearn.datasets import make_classification\n",
    "clf = RandomForestClassifier(n_estimators=100, max_depth=10,\n",
    "                             random_state=1)\n",
    "\n",
    "clf.fit(select_X_train, y_train)\n",
    "class_predicted=clf.predict(select_X_test)\n",
    "print(\"RANDOM FOREST with no of estimators=100 and max depth=10\")\n",
    "print(\"score= \",100*clf.score(select_X_test,y_test))\n",
    "CM = confusion_matrix(y_test, class_predicted)\n",
    "\n",
    "print(\"confusion matrix=\" )\n",
    "print(CM)\n",
    "from sklearn.metrics import precision_recall_fscore_support\n",
    "print(\"precision,recall,fscore\")\n",
    "print(\"macro case =\",precision_recall_fscore_support(y_test, class_predicted, average='macro'))\n",
    "#print(sensitivity,specitivit\n",
    "print(\"micro case=\",precision_recall_fscore_support(y_test, class_predicted, average='micro'))\n",
    "print(\"weighted case=\",precision_recall_fscore_support(y_test, class_predicted, average='weighted'))\n"
   ]
  },
  {
   "cell_type": "code",
   "execution_count": 31,
   "metadata": {},
   "outputs": [],
   "source": []
  },
  {
   "cell_type": "code",
   "execution_count": null,
   "metadata": {},
   "outputs": [],
   "source": []
  },
  {
   "cell_type": "code",
   "execution_count": 65,
   "metadata": {},
   "outputs": [],
   "source": [
    "# loop over the training images\n"
   ]
  },
  {
   "cell_type": "code",
   "execution_count": null,
   "metadata": {},
   "outputs": [],
   "source": []
  }
 ],
 "metadata": {
  "kernelspec": {
   "display_name": "Python 2",
   "language": "python",
   "name": "python2"
  },
  "language_info": {
   "codemirror_mode": {
    "name": "ipython",
    "version": 2
   },
   "file_extension": ".py",
   "mimetype": "text/x-python",
   "name": "python",
   "nbconvert_exporter": "python",
   "pygments_lexer": "ipython2",
   "version": "2.7.15"
  }
 },
 "nbformat": 4,
 "nbformat_minor": 2
}
