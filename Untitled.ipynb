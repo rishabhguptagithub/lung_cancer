{
 "cells": [
  {
   "cell_type": "code",
   "execution_count": 3,
   "metadata": {},
   "outputs": [
    {
     "name": "stderr",
     "output_type": "stream",
     "text": [
      "/home/rishotics/anaconda2/lib/python2.7/site-packages/sklearn/ensemble/weight_boosting.py:29: DeprecationWarning: numpy.core.umath_tests is an internal NumPy module and should not be imported. It will be removed in a future NumPy release.\n",
      "  from numpy.core.umath_tests import inner1d\n",
      "/home/rishotics/anaconda2/lib/python2.7/site-packages/h5py/__init__.py:36: FutureWarning: Conversion of the second argument of issubdtype from `float` to `np.floating` is deprecated. In future, it will be treated as `np.float64 == np.dtype(float).type`.\n",
      "  from ._conv import register_converters as _register_converters\n"
     ]
    }
   ],
   "source": [
    "from skimage import feature\n",
    "import numpy as np\n",
    "import cv2 as cv\n",
    "import mahotas as mt\n",
    "import scipy as sc\n",
    "import os\n",
    "import numpy as np\n",
    "import cv2 as cv\n",
    "from matplotlib import pyplot as plt\n",
    "import pandas as pd\n",
    "%matplotlib inline\n",
    "import matplotlib.pyplot as plt\n",
    "from matplotlib.offsetbox import OffsetImage, AnnotationBbox\n",
    "import glob\n",
    "import os\n",
    "from sklearn.decomposition import PCA\n",
    "from sklearn.manifold import TSNE\n",
    "from sklearn.preprocessing import StandardScaler\n",
    "from sklearn.ensemble import RandomForestClassifier\n",
    "from sklearn.model_selection import train_test_split\n",
    "from sklearn.metrics import accuracy_score\n",
    "from sklearn import svm\n",
    "from sklearn.cluster import KMeans\n",
    "import tensorflow as tf"
   ]
  },
  {
   "cell_type": "code",
   "execution_count": 2,
   "metadata": {},
   "outputs": [
    {
     "data": {
      "text/plain": [
       "(512, 512)"
      ]
     },
     "execution_count": 2,
     "metadata": {},
     "output_type": "execute_result"
    }
   ],
   "source": [
    "i=cv.imread(\"A0001_bottom.tiff\",0)\n",
    "cv.imshow('image',i)\n",
    "cv.waitKey(0)\n",
    "\n",
    "cv.destroyAllWindows()\n",
    "i.shape"
   ]
  },
  {
   "cell_type": "code",
   "execution_count": 108,
   "metadata": {},
   "outputs": [
    {
     "name": "stdout",
     "output_type": "stream",
     "text": [
      "('/home/rishotics/somita/patches/patch104.tiff', 0)\n",
      "1\n",
      "('/home/rishotics/somita/patches/patch1.tiff', 1)\n",
      "1\n",
      "('/home/rishotics/somita/patches/patch120.tiff', 2)\n",
      "1\n",
      "('/home/rishotics/somita/patches/patch101.tiff', 3)\n",
      "1\n",
      "('/home/rishotics/somita/patches/patch142.tiff', 4)\n",
      "1\n",
      "('/home/rishotics/somita/patches/patch85.tiff', 5)\n",
      "1\n",
      "('/home/rishotics/somita/patches/patch155.tiff', 6)\n",
      "1\n",
      "('/home/rishotics/somita/patches/patch57.tiff', 7)\n",
      "1\n",
      "('/home/rishotics/somita/patches/patch32.tiff', 8)\n",
      "1\n",
      "('/home/rishotics/somita/patches/patch49.tiff', 9)\n",
      "1\n",
      "('/home/rishotics/somita/patches/patch92.tiff', 10)\n",
      "1\n",
      "('/home/rishotics/somita/patches/patch64.tiff', 11)\n",
      "1\n",
      "('/home/rishotics/somita/patches/patch66.tiff', 12)\n",
      "1\n",
      "('/home/rishotics/somita/patches/patch5.tiff', 13)\n",
      "1\n",
      "('/home/rishotics/somita/patches/patch140.tiff', 14)\n",
      "1\n",
      "('/home/rishotics/somita/patches/patch19.tiff', 15)\n",
      "1\n",
      "('/home/rishotics/somita/patches/patch47.tiff', 16)\n",
      "1\n",
      "('/home/rishotics/somita/patches/patch28.tiff', 17)\n",
      "1\n",
      "('/home/rishotics/somita/patches/patch14.tiff', 18)\n",
      "1\n",
      "('/home/rishotics/somita/patches/patch35.tiff', 19)\n",
      "1\n",
      "('/home/rishotics/somita/patches/patch150.tiff', 20)\n",
      "1\n",
      "('/home/rishotics/somita/patches/patch86.tiff', 21)\n",
      "1\n",
      "('/home/rishotics/somita/patches/patch26.tiff', 22)\n",
      "1\n",
      "('/home/rishotics/somita/patches/patch102.tiff', 23)\n",
      "1\n",
      "('/home/rishotics/somita/patches/patch130.tiff', 24)\n",
      "1\n",
      "('/home/rishotics/somita/patches/patch93.tiff', 25)\n",
      "1\n",
      "('/home/rishotics/somita/patches/patch91.tiff', 26)\n",
      "1\n",
      "('/home/rishotics/somita/patches/patch84.tiff', 27)\n",
      "1\n",
      "('/home/rishotics/somita/patches/patch15.tiff', 28)\n",
      "1\n",
      "('/home/rishotics/somita/patches/patch31.tiff', 29)\n",
      "1\n",
      "('/home/rishotics/somita/patches/patch152.tiff', 30)\n",
      "1\n",
      "('/home/rishotics/somita/patches/patch4.tiff', 31)\n",
      "1\n",
      "('/home/rishotics/somita/patches/patch21.tiff', 32)\n",
      "1\n",
      "('/home/rishotics/somita/patches/patch42.tiff', 33)\n",
      "1\n",
      "('/home/rishotics/somita/patches/patch136.tiff', 34)\n",
      "1\n",
      "('/home/rishotics/somita/patches/patch70.tiff', 35)\n",
      "1\n",
      "('/home/rishotics/somita/patches/patch113.tiff', 36)\n",
      "1\n",
      "('/home/rishotics/somita/patches/patch40.tiff', 37)\n",
      "1\n",
      "('/home/rishotics/somita/patches/patch131.tiff', 38)\n",
      "1\n",
      "('/home/rishotics/somita/patches/patch11.tiff', 39)\n",
      "1\n",
      "('/home/rishotics/somita/patches/patch68.tiff', 40)\n",
      "1\n",
      "('/home/rishotics/somita/patches/patch50.tiff', 41)\n",
      "1\n",
      "('/home/rishotics/somita/patches/patch38.tiff', 42)\n",
      "1\n",
      "('/home/rishotics/somita/patches/patch163.tiff', 43)\n",
      "1\n",
      "('/home/rishotics/somita/patches/patch145.tiff', 44)\n",
      "1\n",
      "('/home/rishotics/somita/patches/patch160.tiff', 45)\n",
      "1\n",
      "('/home/rishotics/somita/patches/patch119.tiff', 46)\n",
      "1\n",
      "('/home/rishotics/somita/patches/patch143.tiff', 47)\n",
      "1\n",
      "('/home/rishotics/somita/patches/patch99.tiff', 48)\n",
      "1\n",
      "('/home/rishotics/somita/patches/patch81.tiff', 49)\n",
      "1\n",
      "('/home/rishotics/somita/patches/patch107.tiff', 50)\n",
      "1\n",
      "('/home/rishotics/somita/patches/patch45.tiff', 51)\n",
      "1\n",
      "('/home/rishotics/somita/patches/patch13.tiff', 52)\n",
      "1\n",
      "('/home/rishotics/somita/patches/patch144.tiff', 53)\n",
      "1\n",
      "('/home/rishotics/somita/patches/patch46.tiff', 54)\n",
      "1\n",
      "('/home/rishotics/somita/patches/patch59.tiff', 55)\n",
      "1\n",
      "('/home/rishotics/somita/patches/patch114.tiff', 56)\n",
      "1\n",
      "('/home/rishotics/somita/patches/patch67.tiff', 57)\n",
      "1\n",
      "('/home/rishotics/somita/patches/patch51.tiff', 58)\n",
      "1\n",
      "('/home/rishotics/somita/patches/patch149.tiff', 59)\n",
      "2\n",
      "('/home/rishotics/somita/patches/patch126.tiff', 60)\n",
      "2\n",
      "('/home/rishotics/somita/patches/patch167.tiff', 61)\n",
      "2\n",
      "('/home/rishotics/somita/patches/patch166.tiff', 62)\n",
      "2\n",
      "('/home/rishotics/somita/patches/patch103.tiff', 63)\n",
      "2\n",
      "('/home/rishotics/somita/patches/patch168.tiff', 64)\n",
      "2\n",
      "('/home/rishotics/somita/patches/patch147.tiff', 65)\n",
      "2\n",
      "('/home/rishotics/somita/patches/patch74.tiff', 66)\n",
      "2\n",
      "('/home/rishotics/somita/patches/patch159.tiff', 67)\n",
      "2\n",
      "('/home/rishotics/somita/patches/patch48.tiff', 68)\n",
      "2\n",
      "('/home/rishotics/somita/patches/patch78.tiff', 69)\n",
      "2\n",
      "('/home/rishotics/somita/patches/patch164.tiff', 70)\n",
      "2\n",
      "('/home/rishotics/somita/patches/patch36.tiff', 71)\n",
      "2\n",
      "('/home/rishotics/somita/patches/patch141.tiff', 72)\n",
      "2\n",
      "('/home/rishotics/somita/patches/patch153.tiff', 73)\n",
      "2\n",
      "('/home/rishotics/somita/patches/patch18.tiff', 74)\n",
      "2\n",
      "('/home/rishotics/somita/patches/patch73.tiff', 75)\n",
      "2\n",
      "('/home/rishotics/somita/patches/patch123.tiff', 76)\n",
      "2\n",
      "('/home/rishotics/somita/patches/patch6.tiff', 77)\n",
      "2\n",
      "('/home/rishotics/somita/patches/patch55.tiff', 78)\n",
      "2\n",
      "('/home/rishotics/somita/patches/patch129.tiff', 79)\n",
      "2\n",
      "('/home/rishotics/somita/patches/patch53.tiff', 80)\n",
      "2\n",
      "('/home/rishotics/somita/patches/patch41.tiff', 81)\n",
      "2\n",
      "('/home/rishotics/somita/patches/patch20.tiff', 82)\n",
      "2\n",
      "('/home/rishotics/somita/patches/patch23.tiff', 83)\n",
      "2\n",
      "('/home/rishotics/somita/patches/patch79.tiff', 84)\n",
      "2\n",
      "('/home/rishotics/somita/patches/patch134.tiff', 85)\n",
      "2\n",
      "('/home/rishotics/somita/patches/patch137.tiff', 86)\n",
      "2\n",
      "('/home/rishotics/somita/patches/patch82.tiff', 87)\n",
      "2\n",
      "('/home/rishotics/somita/patches/patch24.tiff', 88)\n",
      "2\n",
      "('/home/rishotics/somita/patches/patch33.tiff', 89)\n",
      "2\n",
      "('/home/rishotics/somita/patches/patch80.tiff', 90)\n",
      "2\n",
      "('/home/rishotics/somita/patches/patch157.tiff', 91)\n",
      "2\n",
      "('/home/rishotics/somita/patches/patch98.tiff', 92)\n",
      "2\n",
      "('/home/rishotics/somita/patches/patch109.tiff', 93)\n",
      "2\n",
      "('/home/rishotics/somita/patches/patch22.tiff', 94)\n",
      "2\n",
      "('/home/rishotics/somita/patches/patch77.tiff', 95)\n",
      "2\n",
      "('/home/rishotics/somita/patches/patch2.tiff', 96)\n",
      "2\n",
      "('/home/rishotics/somita/patches/patch75.tiff', 97)\n",
      "2\n",
      "('/home/rishotics/somita/patches/patch7.tiff', 98)\n",
      "2\n",
      "('/home/rishotics/somita/patches/patch90.tiff', 99)\n",
      "2\n",
      "('/home/rishotics/somita/patches/patch58.tiff', 100)\n",
      "2\n",
      "('/home/rishotics/somita/patches/patch95.tiff', 101)\n",
      "2\n",
      "('/home/rishotics/somita/patches/patch3.tiff', 102)\n",
      "2\n",
      "('/home/rishotics/somita/patches/patch116.tiff', 103)\n",
      "2\n",
      "('/home/rishotics/somita/patches/patch165.tiff', 104)\n",
      "2\n",
      "('/home/rishotics/somita/patches/patch83.tiff', 105)\n",
      "2\n",
      "('/home/rishotics/somita/patches/patch133.tiff', 106)\n",
      "2\n",
      "('/home/rishotics/somita/patches/patch29.tiff', 107)\n",
      "2\n",
      "('/home/rishotics/somita/patches/patch30.tiff', 108)\n",
      "2\n",
      "('/home/rishotics/somita/patches/patch88.tiff', 109)\n",
      "3\n",
      "('/home/rishotics/somita/patches/patch27.tiff', 110)\n",
      "3\n",
      "('/home/rishotics/somita/patches/patch16.tiff', 111)\n",
      "3\n",
      "('/home/rishotics/somita/patches/patch96.tiff', 112)\n",
      "3\n",
      "('/home/rishotics/somita/patches/patch61.tiff', 113)\n",
      "3\n",
      "('/home/rishotics/somita/patches/patch124.tiff', 114)\n",
      "3\n",
      "('/home/rishotics/somita/patches/patch76.tiff', 115)\n",
      "3\n",
      "('/home/rishotics/somita/patches/patch148.tiff', 116)\n",
      "3\n",
      "('/home/rishotics/somita/patches/patch9.tiff', 117)\n",
      "3\n",
      "('/home/rishotics/somita/patches/patch44.tiff', 118)\n",
      "3\n",
      "('/home/rishotics/somita/patches/patch54.tiff', 119)\n",
      "3\n",
      "('/home/rishotics/somita/patches/patch97.tiff', 120)\n",
      "3\n",
      "('/home/rishotics/somita/patches/patch17.tiff', 121)\n",
      "3\n",
      "('/home/rishotics/somita/patches/patch71.tiff', 122)\n",
      "3\n",
      "('/home/rishotics/somita/patches/patch69.tiff', 123)\n",
      "3\n",
      "('/home/rishotics/somita/patches/patch56.tiff', 124)\n",
      "3\n",
      "('/home/rishotics/somita/patches/patch127.tiff', 125)\n",
      "3\n",
      "('/home/rishotics/somita/patches/patch87.tiff', 126)\n",
      "3\n",
      "('/home/rishotics/somita/patches/patch128.tiff', 127)\n",
      "3\n",
      "('/home/rishotics/somita/patches/patch62.tiff', 128)\n",
      "3\n",
      "('/home/rishotics/somita/patches/patch60.tiff', 129)\n",
      "3\n",
      "('/home/rishotics/somita/patches/patch161.tiff', 130)\n",
      "3\n",
      "('/home/rishotics/somita/patches/patch156.tiff', 131)\n",
      "3\n",
      "('/home/rishotics/somita/patches/patch121.tiff', 132)\n",
      "3\n",
      "('/home/rishotics/somita/patches/patch43.tiff', 133)\n",
      "3\n",
      "('/home/rishotics/somita/patches/patch105.tiff', 134)\n",
      "3\n",
      "('/home/rishotics/somita/patches/patch89.tiff', 135)\n",
      "3\n",
      "('/home/rishotics/somita/patches/patch151.tiff', 136)\n",
      "3\n",
      "('/home/rishotics/somita/patches/patch162.tiff', 137)\n",
      "3\n",
      "('/home/rishotics/somita/patches/patch112.tiff', 138)\n",
      "3\n",
      "('/home/rishotics/somita/patches/patch72.tiff', 139)\n",
      "3\n",
      "('/home/rishotics/somita/patches/patch108.tiff', 140)\n",
      "3\n",
      "('/home/rishotics/somita/patches/patch39.tiff', 141)\n",
      "3\n",
      "('/home/rishotics/somita/patches/patch118.tiff', 142)\n",
      "3\n",
      "('/home/rishotics/somita/patches/patch34.tiff', 143)\n",
      "3\n",
      "('/home/rishotics/somita/patches/patch146.tiff', 144)\n",
      "3\n",
      "('/home/rishotics/somita/patches/patch135.tiff', 145)\n",
      "3\n",
      "('/home/rishotics/somita/patches/patch138.tiff', 146)\n",
      "3\n",
      "('/home/rishotics/somita/patches/patch139.tiff', 147)\n",
      "3\n",
      "('/home/rishotics/somita/patches/patch117.tiff', 148)\n",
      "3\n",
      "('/home/rishotics/somita/patches/patch37.tiff', 149)\n",
      "3\n",
      "('/home/rishotics/somita/patches/patch158.tiff', 150)\n",
      "3\n",
      "('/home/rishotics/somita/patches/patch8.tiff', 151)\n",
      "3\n",
      "('/home/rishotics/somita/patches/patch115.tiff', 152)\n",
      "3\n",
      "('/home/rishotics/somita/patches/patch122.tiff', 153)\n",
      "3\n",
      "('/home/rishotics/somita/patches/patch63.tiff', 154)\n",
      "3\n",
      "('/home/rishotics/somita/patches/patch52.tiff', 155)\n",
      "3\n",
      "('/home/rishotics/somita/patches/patch106.tiff', 156)\n",
      "3\n",
      "('/home/rishotics/somita/patches/patch94.tiff', 157)\n",
      "3\n",
      "('/home/rishotics/somita/patches/patch25.tiff', 158)\n",
      "3\n",
      "('/home/rishotics/somita/patches/patch100.tiff', 159)\n",
      "3\n",
      "('/home/rishotics/somita/patches/patch65.tiff', 160)\n",
      "3\n"
     ]
    }
   ],
   "source": [
    "lung_image=[]\n",
    "labels=[]\n",
    "i=0\n",
    "for lung_dir_path in glob.glob(\"/home/rishotics/somita/patches/*\"):\n",
    "    \n",
    "    print(lung_dir_path,i)\n",
    "    i=i+1\n",
    "    if(i>=1 and i <=59):\n",
    "        label=1\n",
    "    elif(i>59 and i<=109):\n",
    "        label=2\n",
    "    else:\n",
    "        label=3\n",
    "    print(label)\n",
    "    image=cv.imread(lung_dir_path)\n",
    "    labels.append(label)\n",
    "    lung_image.append(image)\n",
    "lung_image=np.array(lung_image)\n",
    "labels=np.array(labels)\n",
    "lung_to_dict={i:k for k,i in enumerate(np.unique(labels))}\n",
    "dict_to_id={i:k for k,i in lung_to_dict.items()}\n",
    "label_id=np.array([lung_to_dict[x] for x in labels])\n"
   ]
  },
  {
   "cell_type": "code",
   "execution_count": 109,
   "metadata": {},
   "outputs": [
    {
     "data": {
      "text/plain": [
       "(161,)"
      ]
     },
     "execution_count": 109,
     "metadata": {},
     "output_type": "execute_result"
    }
   ],
   "source": [
    "\n",
    "label_id.shape"
   ]
  },
  {
   "cell_type": "code",
   "execution_count": 98,
   "metadata": {},
   "outputs": [
    {
     "data": {
      "text/plain": [
       "161"
      ]
     },
     "execution_count": 98,
     "metadata": {},
     "output_type": "execute_result"
    }
   ],
   "source": []
  },
  {
   "cell_type": "code",
   "execution_count": 85,
   "metadata": {
    "scrolled": false
   },
   "outputs": [
    {
     "data": {
      "text/plain": [
       "(161, 21)"
      ]
     },
     "execution_count": 85,
     "metadata": {},
     "output_type": "execute_result"
    }
   ],
   "source": [
    "j=0\n",
    "X=np.zeros((lung_image.shape[0],21))\n",
    "for i in lung_image:\n",
    "    \n",
    "    \n",
    "    feature_vector=[]\n",
    "    glcm_features=glcm(i)\n",
    "    gabor_features=gabor_feature(i)\n",
    "    feature_vector=np.concatenate((glcm_features,gabor_features),axis=0)\n",
    "    X[j,:]=feature_vector\n",
    "    \n",
    "    j=j+1\n",
    "X.shape\n",
    "    "
   ]
  },
  {
   "cell_type": "code",
   "execution_count": 91,
   "metadata": {},
   "outputs": [
    {
     "data": {
      "text/plain": [
       "(161, 21)"
      ]
     },
     "execution_count": 91,
     "metadata": {},
     "output_type": "execute_result"
    }
   ],
   "source": [
    "X.shape"
   ]
  },
  {
   "cell_type": "code",
   "execution_count": 47,
   "metadata": {},
   "outputs": [],
   "source": [
    "def glcm(i):\n",
    "    textures = mt.features.haralick(i)\n",
    "\n",
    "        # take the mean of it and return it\n",
    "    ht_mean = textures.mean(axis=0)\n",
    "    \n",
    "    return ht_mean"
   ]
  },
  {
   "cell_type": "code",
   "execution_count": 116,
   "metadata": {},
   "outputs": [
    {
     "data": {
      "text/plain": [
       "array([0, 2, 0, 1, 2, 0, 0, 0, 0, 0, 0, 2, 0, 2, 0, 0, 2, 2, 2, 0, 0, 2,\n",
       "       0, 2, 0, 1, 0, 1, 0, 1, 0, 0, 0, 1, 0, 0, 0, 2, 0, 2, 0, 0, 0, 0,\n",
       "       0, 0, 2, 0, 1, 1, 2, 0, 2, 0, 1, 0, 0, 1, 0, 0, 0, 0, 0, 0, 0, 0,\n",
       "       1, 0, 0, 1, 0, 0, 0, 0, 0, 0, 2, 0, 0, 0, 0, 2, 0, 0, 1, 0, 0, 1,\n",
       "       2, 1, 1, 0, 1, 1, 1, 1, 0, 2, 1, 0, 0, 1, 2, 0, 0, 1, 2, 0, 2, 0,\n",
       "       0, 2, 1, 0, 0, 1, 0, 2, 0, 0, 0, 0, 0, 1, 0, 0, 0, 0, 2, 0, 0, 0,\n",
       "       0, 0, 2, 2, 0, 0, 0, 1, 0, 0, 0, 0, 0, 0, 0, 0, 0, 0, 0, 1, 0, 0,\n",
       "       0, 0, 0, 1, 2, 2, 2])"
      ]
     },
     "execution_count": 116,
     "metadata": {},
     "output_type": "execute_result"
    }
   ],
   "source": [
    "lin_clf = svm.LinearSVC()\n",
    "lin_clf.fit(X, label_id) \n",
    "lin_clf.predict(X)"
   ]
  },
  {
   "cell_type": "code",
   "execution_count": 115,
   "metadata": {},
   "outputs": [
    {
     "ename": "TypeError",
     "evalue": "a float is required",
     "output_type": "error",
     "traceback": [
      "\u001b[0;31m---------------------------------------------------------------------------\u001b[0m",
      "\u001b[0;31mTypeError\u001b[0m                                 Traceback (most recent call last)",
      "\u001b[0;32m<ipython-input-115-d5753587363d>\u001b[0m in \u001b[0;36m<module>\u001b[0;34m()\u001b[0m\n\u001b[1;32m      1\u001b[0m \u001b[0mclf\u001b[0m \u001b[0;34m=\u001b[0m \u001b[0msvm\u001b[0m\u001b[0;34m.\u001b[0m\u001b[0mSVC\u001b[0m\u001b[0;34m(\u001b[0m\u001b[0mgamma\u001b[0m\u001b[0;34m=\u001b[0m\u001b[0;34m'scale'\u001b[0m\u001b[0;34m,\u001b[0m \u001b[0mdecision_function_shape\u001b[0m\u001b[0;34m=\u001b[0m\u001b[0;34m'ovo'\u001b[0m\u001b[0;34m)\u001b[0m\u001b[0;34m\u001b[0m\u001b[0m\n\u001b[0;32m----> 2\u001b[0;31m \u001b[0mclf\u001b[0m\u001b[0;34m.\u001b[0m\u001b[0mfit\u001b[0m\u001b[0;34m(\u001b[0m\u001b[0mX\u001b[0m\u001b[0;34m,\u001b[0m \u001b[0mlabel_id\u001b[0m\u001b[0;34m)\u001b[0m\u001b[0;34m\u001b[0m\u001b[0m\n\u001b[0m",
      "\u001b[0;32m/home/rishotics/anaconda2/lib/python2.7/site-packages/sklearn/svm/base.pyc\u001b[0m in \u001b[0;36mfit\u001b[0;34m(self, X, y, sample_weight)\u001b[0m\n\u001b[1;32m    185\u001b[0m \u001b[0;34m\u001b[0m\u001b[0m\n\u001b[1;32m    186\u001b[0m         \u001b[0mseed\u001b[0m \u001b[0;34m=\u001b[0m \u001b[0mrnd\u001b[0m\u001b[0;34m.\u001b[0m\u001b[0mrandint\u001b[0m\u001b[0;34m(\u001b[0m\u001b[0mnp\u001b[0m\u001b[0;34m.\u001b[0m\u001b[0miinfo\u001b[0m\u001b[0;34m(\u001b[0m\u001b[0;34m'i'\u001b[0m\u001b[0;34m)\u001b[0m\u001b[0;34m.\u001b[0m\u001b[0mmax\u001b[0m\u001b[0;34m)\u001b[0m\u001b[0;34m\u001b[0m\u001b[0m\n\u001b[0;32m--> 187\u001b[0;31m         \u001b[0mfit\u001b[0m\u001b[0;34m(\u001b[0m\u001b[0mX\u001b[0m\u001b[0;34m,\u001b[0m \u001b[0my\u001b[0m\u001b[0;34m,\u001b[0m \u001b[0msample_weight\u001b[0m\u001b[0;34m,\u001b[0m \u001b[0msolver_type\u001b[0m\u001b[0;34m,\u001b[0m \u001b[0mkernel\u001b[0m\u001b[0;34m,\u001b[0m \u001b[0mrandom_seed\u001b[0m\u001b[0;34m=\u001b[0m\u001b[0mseed\u001b[0m\u001b[0;34m)\u001b[0m\u001b[0;34m\u001b[0m\u001b[0m\n\u001b[0m\u001b[1;32m    188\u001b[0m         \u001b[0;31m# see comment on the other call to np.iinfo in this file\u001b[0m\u001b[0;34m\u001b[0m\u001b[0;34m\u001b[0m\u001b[0m\n\u001b[1;32m    189\u001b[0m \u001b[0;34m\u001b[0m\u001b[0m\n",
      "\u001b[0;32m/home/rishotics/anaconda2/lib/python2.7/site-packages/sklearn/svm/base.pyc\u001b[0m in \u001b[0;36m_dense_fit\u001b[0;34m(self, X, y, sample_weight, solver_type, kernel, random_seed)\u001b[0m\n\u001b[1;32m    252\u001b[0m                 \u001b[0mcache_size\u001b[0m\u001b[0;34m=\u001b[0m\u001b[0mself\u001b[0m\u001b[0;34m.\u001b[0m\u001b[0mcache_size\u001b[0m\u001b[0;34m,\u001b[0m \u001b[0mcoef0\u001b[0m\u001b[0;34m=\u001b[0m\u001b[0mself\u001b[0m\u001b[0;34m.\u001b[0m\u001b[0mcoef0\u001b[0m\u001b[0;34m,\u001b[0m\u001b[0;34m\u001b[0m\u001b[0m\n\u001b[1;32m    253\u001b[0m                 \u001b[0mgamma\u001b[0m\u001b[0;34m=\u001b[0m\u001b[0mself\u001b[0m\u001b[0;34m.\u001b[0m\u001b[0m_gamma\u001b[0m\u001b[0;34m,\u001b[0m \u001b[0mepsilon\u001b[0m\u001b[0;34m=\u001b[0m\u001b[0mself\u001b[0m\u001b[0;34m.\u001b[0m\u001b[0mepsilon\u001b[0m\u001b[0;34m,\u001b[0m\u001b[0;34m\u001b[0m\u001b[0m\n\u001b[0;32m--> 254\u001b[0;31m                 max_iter=self.max_iter, random_seed=random_seed)\n\u001b[0m\u001b[1;32m    255\u001b[0m \u001b[0;34m\u001b[0m\u001b[0m\n\u001b[1;32m    256\u001b[0m         \u001b[0mself\u001b[0m\u001b[0;34m.\u001b[0m\u001b[0m_warn_from_fit_status\u001b[0m\u001b[0;34m(\u001b[0m\u001b[0;34m)\u001b[0m\u001b[0;34m\u001b[0m\u001b[0m\n",
      "\u001b[0;32msklearn/svm/libsvm.pyx\u001b[0m in \u001b[0;36msklearn.svm.libsvm.fit\u001b[0;34m()\u001b[0m\n",
      "\u001b[0;31mTypeError\u001b[0m: a float is required"
     ]
    }
   ],
   "source": [
    "clf = svm.SVC(gamma='scale', decision_function_shape='ovo')\n",
    "clf.fit(X, label_id) \n"
   ]
  },
  {
   "cell_type": "code",
   "execution_count": 106,
   "metadata": {},
   "outputs": [
    {
     "ename": "TypeError",
     "evalue": "a float is required",
     "output_type": "error",
     "traceback": [
      "\u001b[0;31m---------------------------------------------------------------------------\u001b[0m",
      "\u001b[0;31mTypeError\u001b[0m                                 Traceback (most recent call last)",
      "\u001b[0;32m<ipython-input-106-11c081c9acd3>\u001b[0m in \u001b[0;36m<module>\u001b[0;34m()\u001b[0m\n\u001b[1;32m      1\u001b[0m \u001b[0mclf\u001b[0m \u001b[0;34m=\u001b[0m \u001b[0msvm\u001b[0m\u001b[0;34m.\u001b[0m\u001b[0mSVC\u001b[0m\u001b[0;34m(\u001b[0m\u001b[0mgamma\u001b[0m\u001b[0;34m=\u001b[0m\u001b[0;34m'scale'\u001b[0m\u001b[0;34m)\u001b[0m\u001b[0;34m\u001b[0m\u001b[0m\n\u001b[0;32m----> 2\u001b[0;31m \u001b[0mclf\u001b[0m\u001b[0;34m.\u001b[0m\u001b[0mfit\u001b[0m\u001b[0;34m(\u001b[0m\u001b[0mX\u001b[0m\u001b[0;34m,\u001b[0m \u001b[0mlabel_id\u001b[0m\u001b[0;34m)\u001b[0m\u001b[0;34m\u001b[0m\u001b[0m\n\u001b[0m",
      "\u001b[0;32m/home/rishotics/anaconda2/lib/python2.7/site-packages/sklearn/svm/base.pyc\u001b[0m in \u001b[0;36mfit\u001b[0;34m(self, X, y, sample_weight)\u001b[0m\n\u001b[1;32m    185\u001b[0m \u001b[0;34m\u001b[0m\u001b[0m\n\u001b[1;32m    186\u001b[0m         \u001b[0mseed\u001b[0m \u001b[0;34m=\u001b[0m \u001b[0mrnd\u001b[0m\u001b[0;34m.\u001b[0m\u001b[0mrandint\u001b[0m\u001b[0;34m(\u001b[0m\u001b[0mnp\u001b[0m\u001b[0;34m.\u001b[0m\u001b[0miinfo\u001b[0m\u001b[0;34m(\u001b[0m\u001b[0;34m'i'\u001b[0m\u001b[0;34m)\u001b[0m\u001b[0;34m.\u001b[0m\u001b[0mmax\u001b[0m\u001b[0;34m)\u001b[0m\u001b[0;34m\u001b[0m\u001b[0m\n\u001b[0;32m--> 187\u001b[0;31m         \u001b[0mfit\u001b[0m\u001b[0;34m(\u001b[0m\u001b[0mX\u001b[0m\u001b[0;34m,\u001b[0m \u001b[0my\u001b[0m\u001b[0;34m,\u001b[0m \u001b[0msample_weight\u001b[0m\u001b[0;34m,\u001b[0m \u001b[0msolver_type\u001b[0m\u001b[0;34m,\u001b[0m \u001b[0mkernel\u001b[0m\u001b[0;34m,\u001b[0m \u001b[0mrandom_seed\u001b[0m\u001b[0;34m=\u001b[0m\u001b[0mseed\u001b[0m\u001b[0;34m)\u001b[0m\u001b[0;34m\u001b[0m\u001b[0m\n\u001b[0m\u001b[1;32m    188\u001b[0m         \u001b[0;31m# see comment on the other call to np.iinfo in this file\u001b[0m\u001b[0;34m\u001b[0m\u001b[0;34m\u001b[0m\u001b[0m\n\u001b[1;32m    189\u001b[0m \u001b[0;34m\u001b[0m\u001b[0m\n",
      "\u001b[0;32m/home/rishotics/anaconda2/lib/python2.7/site-packages/sklearn/svm/base.pyc\u001b[0m in \u001b[0;36m_dense_fit\u001b[0;34m(self, X, y, sample_weight, solver_type, kernel, random_seed)\u001b[0m\n\u001b[1;32m    252\u001b[0m                 \u001b[0mcache_size\u001b[0m\u001b[0;34m=\u001b[0m\u001b[0mself\u001b[0m\u001b[0;34m.\u001b[0m\u001b[0mcache_size\u001b[0m\u001b[0;34m,\u001b[0m \u001b[0mcoef0\u001b[0m\u001b[0;34m=\u001b[0m\u001b[0mself\u001b[0m\u001b[0;34m.\u001b[0m\u001b[0mcoef0\u001b[0m\u001b[0;34m,\u001b[0m\u001b[0;34m\u001b[0m\u001b[0m\n\u001b[1;32m    253\u001b[0m                 \u001b[0mgamma\u001b[0m\u001b[0;34m=\u001b[0m\u001b[0mself\u001b[0m\u001b[0;34m.\u001b[0m\u001b[0m_gamma\u001b[0m\u001b[0;34m,\u001b[0m \u001b[0mepsilon\u001b[0m\u001b[0;34m=\u001b[0m\u001b[0mself\u001b[0m\u001b[0;34m.\u001b[0m\u001b[0mepsilon\u001b[0m\u001b[0;34m,\u001b[0m\u001b[0;34m\u001b[0m\u001b[0m\n\u001b[0;32m--> 254\u001b[0;31m                 max_iter=self.max_iter, random_seed=random_seed)\n\u001b[0m\u001b[1;32m    255\u001b[0m \u001b[0;34m\u001b[0m\u001b[0m\n\u001b[1;32m    256\u001b[0m         \u001b[0mself\u001b[0m\u001b[0;34m.\u001b[0m\u001b[0m_warn_from_fit_status\u001b[0m\u001b[0;34m(\u001b[0m\u001b[0;34m)\u001b[0m\u001b[0;34m\u001b[0m\u001b[0m\n",
      "\u001b[0;32msklearn/svm/libsvm.pyx\u001b[0m in \u001b[0;36msklearn.svm.libsvm.fit\u001b[0;34m()\u001b[0m\n",
      "\u001b[0;31mTypeError\u001b[0m: a float is required"
     ]
    }
   ],
   "source": []
  },
  {
   "cell_type": "code",
   "execution_count": 110,
   "metadata": {},
   "outputs": [
    {
     "data": {
      "text/plain": [
       "KNeighborsClassifier(algorithm='auto', leaf_size=30, metric='minkowski',\n",
       "           metric_params=None, n_jobs=1, n_neighbors=3, p=2,\n",
       "           weights='uniform')"
      ]
     },
     "execution_count": 110,
     "metadata": {},
     "output_type": "execute_result"
    }
   ],
   "source": [
    "from sklearn.neighbors import KNeighborsClassifier\n",
    "neigh = KNeighborsClassifier(n_neighbors=3)\n",
    "neigh.fit(X, label_id)"
   ]
  },
  {
   "cell_type": "code",
   "execution_count": 112,
   "metadata": {},
   "outputs": [
    {
     "data": {
      "text/plain": [
       "array([1, 2, 0, 0, 0, 2, 0, 0, 0, 0, 1, 0, 0, 0, 2, 0, 0, 0, 0, 0, 0, 0,\n",
       "       0, 0, 0, 0, 0, 0, 0, 1, 0, 0, 0, 1, 0, 0, 0, 0, 0, 0, 0, 0, 0, 0,\n",
       "       0, 2, 0, 0, 2, 0, 0, 2, 0, 0, 0, 0, 2, 1, 0, 0, 1, 1, 2, 1, 2, 1,\n",
       "       1, 0, 0, 1, 2, 0, 0, 2, 2, 1, 0, 0, 1, 1, 1, 0, 0, 0, 1, 0, 0, 1,\n",
       "       1, 1, 1, 1, 1, 1, 1, 0, 1, 0, 1, 1, 0, 1, 0, 2, 0, 0, 1, 1, 2, 0,\n",
       "       2, 2, 2, 2, 2, 2, 0, 1, 1, 2, 2, 2, 2, 2, 2, 2, 0, 1, 2, 0, 2, 2,\n",
       "       2, 2, 0, 0, 2, 2, 2, 2, 1, 2, 2, 0, 0, 1, 2, 2, 0, 0, 2, 1, 2, 0,\n",
       "       2, 2, 2, 2, 2, 2, 0])"
      ]
     },
     "execution_count": 112,
     "metadata": {},
     "output_type": "execute_result"
    }
   ],
   "source": [
    "neigh.predict(X)"
   ]
  },
  {
   "cell_type": "code",
   "execution_count": 113,
   "metadata": {},
   "outputs": [
    {
     "data": {
      "text/plain": [
       "0.6583850931677019"
      ]
     },
     "execution_count": 113,
     "metadata": {},
     "output_type": "execute_result"
    }
   ],
   "source": [
    "neigh.score(X, label_id, sample_weight=None)"
   ]
  },
  {
   "cell_type": "code",
   "execution_count": 43,
   "metadata": {},
   "outputs": [
    {
     "ename": "NameError",
     "evalue": "name 'image_histogram_equalization' is not defined",
     "output_type": "error",
     "traceback": [
      "\u001b[0;31m---------------------------------------------------------------------------\u001b[0m",
      "\u001b[0;31mNameError\u001b[0m                                 Traceback (most recent call last)",
      "\u001b[0;32m<ipython-input-43-3c01f4e3fa5f>\u001b[0m in \u001b[0;36m<module>\u001b[0;34m()\u001b[0m\n\u001b[1;32m     19\u001b[0m \u001b[0mimg\u001b[0m \u001b[0;34m=\u001b[0m \u001b[0mi\u001b[0m\u001b[0;34m\u001b[0m\u001b[0m\n\u001b[1;32m     20\u001b[0m \u001b[0;34m\u001b[0m\u001b[0m\n\u001b[0;32m---> 21\u001b[0;31m \u001b[0mX\u001b[0m\u001b[0;34m[\u001b[0m\u001b[0mk\u001b[0m\u001b[0;34m,\u001b[0m \u001b[0;34m:\u001b[0m\u001b[0;34m,\u001b[0m \u001b[0;34m:\u001b[0m\u001b[0;34m]\u001b[0m \u001b[0;34m=\u001b[0m \u001b[0mimage_histogram_equalization\u001b[0m\u001b[0;34m(\u001b[0m\u001b[0mX\u001b[0m\u001b[0;34m[\u001b[0m\u001b[0mk\u001b[0m\u001b[0;34m,\u001b[0m \u001b[0;34m:\u001b[0m\u001b[0;34m,\u001b[0m\u001b[0;34m:\u001b[0m\u001b[0;34m]\u001b[0m\u001b[0;34m)\u001b[0m\u001b[0;34m[\u001b[0m\u001b[0;36m0\u001b[0m\u001b[0;34m]\u001b[0m\u001b[0;34m\u001b[0m\u001b[0m\n\u001b[0m\u001b[1;32m     22\u001b[0m \u001b[0;34m\u001b[0m\u001b[0m\n\u001b[1;32m     23\u001b[0m \u001b[0mfilters\u001b[0m \u001b[0;34m=\u001b[0m \u001b[0mbuild_filters\u001b[0m\u001b[0;34m(\u001b[0m\u001b[0;34m)\u001b[0m\u001b[0;34m\u001b[0m\u001b[0m\n",
      "\u001b[0;31mNameError\u001b[0m: name 'image_histogram_equalization' is not defined"
     ]
    }
   ],
   "source": [
    "import cv2\n",
    "import numpy as np\n",
    "import pandas as pd\n",
    "import pylab as pl\n",
    "\n",
    "df = pd.read_csv('test.csv',header=0)\n",
    "\n",
    "df['Image'] = df['Image'].apply(lambda im: np.fromstring(im, sep=' ') )\n",
    "X = np.vstack (df['Image'].values) \n",
    "\n",
    "X = X.astype(np.uint8)\n",
    "X = X.reshape(-1,96,96)\n",
    "\n",
    "\n",
    "def image_histogram_equalization(image, number_bins=256):\n",
    "    # from http://www.janeriksolem.net/2009/06/histogram-equalization-with-python-and.html\n",
    "\n",
    "    # get image histogram\n",
    "    image_histogram, bins = np.histogram(image.flatten(), number_bins, normed=True)\n",
    "    cdf = image_histogram.cumsum() # cumulative distribution function\n",
    "    cdf = 255 * cdf / cdf[-1] # normalize\n",
    "\n",
    "    # use linear interpolation of cdf to find new pixel values\n",
    "    image_equalized = np.interp(image.flatten(), bins[:-1], cdf)\n",
    "\n",
    "    return image_equalized.reshape(image.shape), cdf\n",
    "def build_filters():\n",
    "    filters = []\n",
    "    ksize = 31\n",
    "    for theta in np.arange(0, np.pi, np.pi / 16):\n",
    "        kern = cv2.getGaborKernel((ksize, ksize), 4.0, theta, 10.0, 0.5, 0, ktype=cv2.CV_32F)\n",
    "        kern /= 1.5*kern.sum()\n",
    "        filters.append(kern)\n",
    "    return filters\n",
    "\n",
    "def process(img, filters):\n",
    "        accum = np.zeros_like(img)\n",
    "        for kern in filters:\n",
    "                fimg = cv2.filter2D(img, cv2.CV_8UC3, kern)\n",
    "                np.maximum(accum, fimg, accum)\n",
    "        return accum\n",
    "filters = []\n",
    "\n",
    "\n",
    "img = i\n",
    "\n",
    "X = image_histogram_equalization(img)[0]\n",
    "\n",
    "filters = build_filters()\n",
    "filters = np.asarray(filters)\n",
    "print filters.shape\n",
    "res1 = process(img, filters)\n",
    "cv2.imshow('result', res1)\n",
    "cv2.waitKey(0)\n",
    "cv2.destroyAllWindows()\n",
    "\n",
    "f = np.asarray(filters)\n",
    "print 'Filters', f.shape"
   ]
  },
  {
   "cell_type": "code",
   "execution_count": 51,
   "metadata": {},
   "outputs": [],
   "source": [
    "import cv2 \n",
    "def gabor_feature(i):\n",
    "    ksize = 31\n",
    "    kern = cv2.getGaborKernel((ksize, ksize), 4.0,np.pi*1.5, 10.0, 1, 0, ktype=cv2.CV_32F)\n",
    "    res1 = cv2.filter2D(i, cv2.CV_8UC3, kern)\n",
    "    def build_filters_sigma():\n",
    "        gabor_sigma=[]\n",
    "        ksize = 31\n",
    "        for sigma in range(1,5):\n",
    "            kern = cv2.getGaborKernel((ksize, ksize), sigma, np.pi/2, 10.0, 0.5, 0, ktype=cv2.CV_32F)\n",
    "            m=kern.mean()\n",
    "            gabor_sigma.append(m)\n",
    "        return gabor_sigma\n",
    "    def build_filters_theta():\n",
    "        gabor_theta=[]\n",
    "        ksize = 31\n",
    "        for theta in np.arange(0, np.pi/2, np.pi /8):\n",
    "            kern = cv2.getGaborKernel((ksize, ksize), 4.0, theta, 10.0, 0.5, 0, ktype=cv2.CV_32F)\n",
    "            m=kern.mean()\n",
    "            gabor_theta.append(m)\n",
    "        return gabor_theta \n",
    "\n",
    "\n",
    "    gabor_features=[]\n",
    "    mea1 = build_filters_sigma()\n",
    "    mea2= build_filters_theta()\n",
    "    gabor_features=mea1+mea2\n",
    "    gabor_features=np.reshape(gabor_features,-1)\n",
    "    return gabor_features\n"
   ]
  },
  {
   "cell_type": "code",
   "execution_count": 31,
   "metadata": {},
   "outputs": [
    {
     "name": "stdout",
     "output_type": "stream",
     "text": [
      "0.0\n",
      "0.39269908169872414\n",
      "0.7853981633974483\n",
      "1.1780972450961724\n"
     ]
    }
   ],
   "source": [
    "for theta in np.arange(0, np.pi/2, np.pi /8):\n",
    "    print(theta)"
   ]
  }
 ],
 "metadata": {
  "kernelspec": {
   "display_name": "Python 2",
   "language": "python",
   "name": "python2"
  },
  "language_info": {
   "codemirror_mode": {
    "name": "ipython",
    "version": 2
   },
   "file_extension": ".py",
   "mimetype": "text/x-python",
   "name": "python",
   "nbconvert_exporter": "python",
   "pygments_lexer": "ipython2",
   "version": "2.7.15"
  }
 },
 "nbformat": 4,
 "nbformat_minor": 2
}
